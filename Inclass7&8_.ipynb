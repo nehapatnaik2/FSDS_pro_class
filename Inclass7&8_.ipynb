{
 "cells": [
  {
   "cell_type": "code",
   "execution_count": null,
   "id": "fbd8c437-3d56-43b2-bda9-42abfe5779a8",
   "metadata": {},
   "outputs": [],
   "source": [
    "Recap:"
   ]
  },
  {
   "cell_type": "code",
   "execution_count": null,
   "id": "2a9bd76f-c015-4fa9-bc3c-00544a77502c",
   "metadata": {},
   "outputs": [],
   "source": [
    "if else, for loop, while loop."
   ]
  },
  {
   "cell_type": "code",
   "execution_count": 4,
   "id": "71628369-864c-4f91-b015-ea97a738dbcd",
   "metadata": {},
   "outputs": [
    {
     "name": "stdout",
     "output_type": "stream",
     "text": [
      "Yes\n"
     ]
    }
   ],
   "source": [
    "a = 300\n",
    "if a <400:\n",
    "    print('Yes')\n",
    "elif a < 500:\n",
    "    print(\"No\")"
   ]
  },
  {
   "cell_type": "code",
   "execution_count": 5,
   "id": "3183ba7b-261f-4577-a32b-f39647c5a939",
   "metadata": {},
   "outputs": [
    {
     "name": "stdout",
     "output_type": "stream",
     "text": [
      "Yes\n",
      "No\n"
     ]
    }
   ],
   "source": [
    "a = 300\n",
    "if a <400:\n",
    "    print('Yes')\n",
    "if a < 500:\n",
    "    print(\"No\")"
   ]
  },
  {
   "cell_type": "code",
   "execution_count": 6,
   "id": "50b94a72-8b0b-4209-a32c-7894540bb1af",
   "metadata": {},
   "outputs": [
    {
     "name": "stdout",
     "output_type": "stream",
     "text": [
      "No\n"
     ]
    }
   ],
   "source": [
    "a = 300\n",
    "if a <200:\n",
    "    print('Yes')\n",
    "elif a < 500:\n",
    "    print(\"No\")"
   ]
  },
  {
   "cell_type": "code",
   "execution_count": null,
   "id": "eb1ae886-14ad-404b-a367-d2799aad617f",
   "metadata": {},
   "outputs": [],
   "source": [
    "Inclass_ 8:\n",
    "    "
   ]
  },
  {
   "cell_type": "code",
   "execution_count": null,
   "id": "2e4f8bcf-62f2-445c-b32b-fb652e1de249",
   "metadata": {},
   "outputs": [],
   "source": [
    "1)functions in python, revision."
   ]
  },
  {
   "cell_type": "code",
   "execution_count": 7,
   "id": "6e0bc342-1e1e-4149-ae73-9f187dbcda5a",
   "metadata": {},
   "outputs": [],
   "source": [
    "def test():\n",
    "    print(1+2)"
   ]
  },
  {
   "cell_type": "code",
   "execution_count": 8,
   "id": "e7ac6f55-d39c-4b82-818d-3eac31f2a903",
   "metadata": {},
   "outputs": [
    {
     "name": "stdout",
     "output_type": "stream",
     "text": [
      "3\n"
     ]
    }
   ],
   "source": [
    "test()"
   ]
  },
  {
   "cell_type": "code",
   "execution_count": null,
   "id": "12789ce4-e6fd-490e-9752-c6aa596cd72a",
   "metadata": {},
   "outputs": [],
   "source": [
    "Print gives none type.\n",
    "So, to perform operations we should use RETURN."
   ]
  },
  {
   "cell_type": "code",
   "execution_count": 9,
   "id": "88f32b78-2273-4542-ba1f-8970c9fec00d",
   "metadata": {},
   "outputs": [
    {
     "data": {
      "text/plain": [
       "2"
      ]
     },
     "execution_count": 9,
     "metadata": {},
     "output_type": "execute_result"
    }
   ],
   "source": [
    "def test():\n",
    "    return (1+1)\n",
    "\n",
    "test()"
   ]
  },
  {
   "cell_type": "code",
   "execution_count": 10,
   "id": "d05bfe71-7de9-4ce6-8cdf-cfc89ad3bba0",
   "metadata": {},
   "outputs": [
    {
     "data": {
      "text/plain": [
       "15"
      ]
     },
     "execution_count": 10,
     "metadata": {},
     "output_type": "execute_result"
    }
   ],
   "source": [
    "test()+13 # Now, you can call a function and perform operations."
   ]
  },
  {
   "cell_type": "code",
   "execution_count": 11,
   "id": "81c72303-a7b5-49e4-aa2a-96e96f33e20f",
   "metadata": {},
   "outputs": [
    {
     "data": {
      "text/plain": [
       "(2, 'Neha')"
      ]
     },
     "execution_count": 11,
     "metadata": {},
     "output_type": "execute_result"
    }
   ],
   "source": [
    "def test():\n",
    "    return (1+1), \"Neha\"\n",
    "\n",
    "test()\n",
    "# a function canreturn mutiple variable."
   ]
  },
  {
   "cell_type": "code",
   "execution_count": 4,
   "id": "1a07d01a-6ac3-4837-8dbf-828444e1a7b6",
   "metadata": {},
   "outputs": [],
   "source": [
    "def test7(a:int, b:int): # thhis ia only a notification for the user. But you can't restrict.\n",
    "    \"\"\" This is my function to create an input\"\"\" #Block string for explanation. Press shift+tab to see.\n",
    "    return a,b"
   ]
  },
  {
   "cell_type": "code",
   "execution_count": 2,
   "id": "3c064ecd-fc34-4c90-8293-4b00dbd2c2cc",
   "metadata": {},
   "outputs": [
    {
     "data": {
      "text/plain": [
       "('abd', [222])"
      ]
     },
     "execution_count": 2,
     "metadata": {},
     "output_type": "execute_result"
    }
   ],
   "source": [
    "test7(\"abd\", [222])"
   ]
  },
  {
   "cell_type": "code",
   "execution_count": 3,
   "id": "70f2865c-bc91-4a1e-9dc8-d7a7b949e115",
   "metadata": {},
   "outputs": [
    {
     "data": {
      "text/plain": [
       "function"
      ]
     },
     "execution_count": 3,
     "metadata": {},
     "output_type": "execute_result"
    }
   ],
   "source": [
    "type(test7)"
   ]
  },
  {
   "cell_type": "code",
   "execution_count": null,
   "id": "32db11d3-4723-4e0a-bbfe-40f0671cc39d",
   "metadata": {},
   "outputs": [],
   "source": [
    "test7()"
   ]
  },
  {
   "cell_type": "code",
   "execution_count": null,
   "id": "5c46e49a-0e2f-49bf-b8d0-357f7b28fb69",
   "metadata": {},
   "outputs": [],
   "source": [
    "*args and **kwargs"
   ]
  },
  {
   "cell_type": "code",
   "execution_count": 5,
   "id": "a094b440-55e4-4d7f-bbc7-bcf74e3c84cc",
   "metadata": {},
   "outputs": [],
   "source": [
    "def test13 (b,a=10,c=20): # a,c are default arguments\n",
    "    return(a+b+c)\n",
    "    "
   ]
  },
  {
   "cell_type": "code",
   "execution_count": 6,
   "id": "67b4b869-ed18-47da-8355-a9ad88bc36ee",
   "metadata": {},
   "outputs": [
    {
     "data": {
      "text/plain": [
       "31"
      ]
     },
     "execution_count": 6,
     "metadata": {},
     "output_type": "execute_result"
    }
   ],
   "source": [
    "test13(1)"
   ]
  },
  {
   "cell_type": "code",
   "execution_count": 7,
   "id": "cc07882f-02fd-4519-8832-dd208fd4f4bb",
   "metadata": {},
   "outputs": [
    {
     "data": {
      "text/plain": [
       "50"
      ]
     },
     "execution_count": 7,
     "metadata": {},
     "output_type": "execute_result"
    }
   ],
   "source": [
    "test13(20, a = 10) # we can change the value of default argument"
   ]
  },
  {
   "cell_type": "code",
   "execution_count": null,
   "id": "ff85fdac-5c9b-4edc-b8f8-c470f2d4adcb",
   "metadata": {},
   "outputs": [],
   "source": [
    "Lambda function:\n"
   ]
  },
  {
   "cell_type": "code",
   "execution_count": 8,
   "id": "eef2e8ec-8982-4293-beb4-261d2a743f4d",
   "metadata": {},
   "outputs": [],
   "source": [
    "s = lambda a,b:a+b"
   ]
  },
  {
   "cell_type": "code",
   "execution_count": 10,
   "id": "2e7ce617-a3d4-415f-915e-6bad9c2951e2",
   "metadata": {},
   "outputs": [
    {
     "data": {
      "text/plain": [
       "16"
      ]
     },
     "execution_count": 10,
     "metadata": {},
     "output_type": "execute_result"
    }
   ],
   "source": [
    "s(12,4)"
   ]
  },
  {
   "cell_type": "code",
   "execution_count": 11,
   "id": "fc0bb2d1-3b2d-4708-9292-09500b5d4554",
   "metadata": {},
   "outputs": [
    {
     "data": {
      "text/plain": [
       "<function __main__.<lambda>(a, b)>"
      ]
     },
     "execution_count": 11,
     "metadata": {},
     "output_type": "execute_result"
    }
   ],
   "source": [
    "s"
   ]
  },
  {
   "cell_type": "code",
   "execution_count": 12,
   "id": "299c87de-1be9-405e-a8c8-56b3352867ab",
   "metadata": {},
   "outputs": [],
   "source": [
    "b = lambda n:\"The no. is even\" if n%2==0 else \"not even\""
   ]
  },
  {
   "cell_type": "code",
   "execution_count": 14,
   "id": "6c8b88ea-44a6-42b1-85b2-f5a546df789c",
   "metadata": {},
   "outputs": [
    {
     "data": {
      "text/plain": [
       "'The no. is even'"
      ]
     },
     "execution_count": 14,
     "metadata": {},
     "output_type": "execute_result"
    }
   ],
   "source": [
    "b(2004)"
   ]
  },
  {
   "cell_type": "code",
   "execution_count": null,
   "id": "3ad521d6-72e6-4e28-a318-6a6548354e24",
   "metadata": {},
   "outputs": [],
   "source": [
    "# syntax:\n",
    "lambda (argument) : (result) if...... else..... "
   ]
  },
  {
   "cell_type": "code",
   "execution_count": 16,
   "id": "696f5cb3-0bc0-4798-b312-77373c03ec5d",
   "metadata": {},
   "outputs": [],
   "source": [
    "#example\n",
    "l = lambda list : min(list)"
   ]
  },
  {
   "cell_type": "code",
   "execution_count": 18,
   "id": "ab7e4fce-469a-48ae-9d69-cff29abc9e05",
   "metadata": {},
   "outputs": [
    {
     "data": {
      "text/plain": [
       "2"
      ]
     },
     "execution_count": 18,
     "metadata": {},
     "output_type": "execute_result"
    }
   ],
   "source": [
    "l([11,2,34])"
   ]
  },
  {
   "cell_type": "code",
   "execution_count": null,
   "id": "3873090f-2803-44b3-b01a-332f8341740f",
   "metadata": {},
   "outputs": [],
   "source": [
    "List comprehension."
   ]
  },
  {
   "cell_type": "code",
   "execution_count": null,
   "id": "e421c25e-c39d-4bf6-9098-8537538711a3",
   "metadata": {},
   "outputs": [],
   "source": [
    "lambda b : sum([i for i in b if i!= 3])"
   ]
  },
  {
   "cell_type": "code",
   "execution_count": null,
   "id": "4ee0e0c8-a5b7-43b7-ae60-03a481e85a77",
   "metadata": {},
   "outputs": [],
   "source": [
    "Recursive call: The function will keep calling itself."
   ]
  },
  {
   "cell_type": "code",
   "execution_count": 1,
   "id": "bbffe97d-6949-4ffa-b1ff-6c91854b6cc6",
   "metadata": {},
   "outputs": [],
   "source": [
    "def fact(n):\n",
    "    if n ==0:\n",
    "        return 1\n",
    "    else:\n",
    "        return n*fact(n-1)"
   ]
  },
  {
   "cell_type": "code",
   "execution_count": 2,
   "id": "f6720dd2-446e-4fbe-b761-28b5f6c46efb",
   "metadata": {},
   "outputs": [
    {
     "data": {
      "text/plain": [
       "24"
      ]
     },
     "execution_count": 2,
     "metadata": {},
     "output_type": "execute_result"
    }
   ],
   "source": [
    "fact(4)"
   ]
  },
  {
   "cell_type": "code",
   "execution_count": null,
   "id": "e9bb321c-6b49-4208-a7b3-4c9db803e11b",
   "metadata": {},
   "outputs": [],
   "source": [
    "Map, Reduce, builder:"
   ]
  },
  {
   "cell_type": "code",
   "execution_count": null,
   "id": "5fb80b36-f1a6-4ba6-84aa-a6332b68c66b",
   "metadata": {},
   "outputs": [],
   "source": [
    "Mapping function on to iterables: it helps avoiding writing for loops."
   ]
  },
  {
   "cell_type": "code",
   "execution_count": null,
   "id": "d8dfb90d-38a6-4cce-9dbc-654810d06b37",
   "metadata": {},
   "outputs": [],
   "source": [
    "list(map( function, iterable))"
   ]
  },
  {
   "cell_type": "code",
   "execution_count": 4,
   "id": "fbe94b73-c5f1-40b8-8925-5ad860df418a",
   "metadata": {},
   "outputs": [
    {
     "data": {
      "text/plain": [
       "[1, 2, 6, 24]"
      ]
     },
     "execution_count": 4,
     "metadata": {},
     "output_type": "execute_result"
    }
   ],
   "source": [
    "list(map(fact,[1,2,3,4]))"
   ]
  },
  {
   "cell_type": "code",
   "execution_count": 8,
   "id": "ff688ce0-db6a-4024-b9a7-2138c5c2a1b9",
   "metadata": {},
   "outputs": [
    {
     "data": {
      "text/plain": [
       "[933262154439441526816992388562667004907159682643816214685929638952175999932299156089414639761565182862536979208272237582511852109168640000000000000000000000]"
      ]
     },
     "execution_count": 8,
     "metadata": {},
     "output_type": "execute_result"
    }
   ],
   "source": [
    "list(map(fact,[99]))"
   ]
  },
  {
   "cell_type": "code",
   "execution_count": 9,
   "id": "42e39ab0-47af-4e3d-a7ab-f7f60f5f0c20",
   "metadata": {},
   "outputs": [],
   "source": [
    "def length(l):\n",
    "    return len(l)\n"
   ]
  },
  {
   "cell_type": "code",
   "execution_count": 10,
   "id": "0ffa1ef2-0260-419e-ac1e-775b38b4ae5d",
   "metadata": {},
   "outputs": [
    {
     "data": {
      "text/plain": [
       "4"
      ]
     },
     "execution_count": 10,
     "metadata": {},
     "output_type": "execute_result"
    }
   ],
   "source": [
    "length([1,1,1,3])"
   ]
  },
  {
   "cell_type": "code",
   "execution_count": 19,
   "id": "ccd46dfc-f7db-47c1-b1c3-440f17a2a54b",
   "metadata": {},
   "outputs": [
    {
     "data": {
      "text/plain": [
       "[4, 4]"
      ]
     },
     "execution_count": 19,
     "metadata": {},
     "output_type": "execute_result"
    }
   ],
   "source": [
    "list(map(length,l))"
   ]
  },
  {
   "cell_type": "code",
   "execution_count": 17,
   "id": "75f83f67-8e6a-46cc-8ce6-fb3d8a8f46c5",
   "metadata": {},
   "outputs": [],
   "source": [
    "l = [\"name\", \"love\"]"
   ]
  },
  {
   "cell_type": "code",
   "execution_count": 18,
   "id": "65529c1e-4f03-40a9-acc2-812fc6a0ca87",
   "metadata": {},
   "outputs": [
    {
     "data": {
      "text/plain": [
       "[4, 4]"
      ]
     },
     "execution_count": 18,
     "metadata": {},
     "output_type": "execute_result"
    }
   ],
   "source": [
    "list(map(lambda l:len(l),l))"
   ]
  },
  {
   "cell_type": "code",
   "execution_count": 20,
   "id": "fad7210b-1d6d-4ba9-b327-62ab05235c1a",
   "metadata": {},
   "outputs": [],
   "source": [
    "a = \"lovely\"\n",
    "s = a[::-1]\n",
    "    \n",
    "    "
   ]
  },
  {
   "cell_type": "code",
   "execution_count": 21,
   "id": "a674e987-cf14-4988-aa3a-b1c87e5f8fb1",
   "metadata": {},
   "outputs": [
    {
     "data": {
      "text/plain": [
       "'ylevol'"
      ]
     },
     "execution_count": 21,
     "metadata": {},
     "output_type": "execute_result"
    }
   ],
   "source": [
    "s"
   ]
  },
  {
   "cell_type": "code",
   "execution_count": 27,
   "id": "18ade671-0dfb-4153-bcdd-9ac872eb41d3",
   "metadata": {},
   "outputs": [
    {
     "name": "stdout",
     "output_type": "stream",
     "text": [
      "['a', 'b', 'n', 's', 's', 'm', 'j', 'j', 'k']\n"
     ]
    }
   ],
   "source": [
    "a =[ \"abn\", \"ssm\", \"jjk\"]\n",
    "b =[]\n",
    "for i in a:\n",
    "    for j in len(i):\n",
    "        #s = j[::-1]\n",
    "        b.append(j[::-1])\n",
    "print(b)        \n",
    "        "
   ]
  },
  {
   "cell_type": "code",
   "execution_count": 29,
   "id": "54f12d76-873d-48ab-babb-7c8d9d0330c1",
   "metadata": {},
   "outputs": [
    {
     "name": "stdout",
     "output_type": "stream",
     "text": [
      "['nba', 'mss', 'kjj']\n"
     ]
    }
   ],
   "source": [
    "a =[ \"abn\", \"ssm\", \"jjk\"]\n",
    "b =[]\n",
    "for i in a:\n",
    "    b.append(i[::-1])\n",
    "print(b)    "
   ]
  },
  {
   "cell_type": "code",
   "execution_count": 35,
   "id": "ca2571a2-5923-40a1-9655-8b442781b04f",
   "metadata": {},
   "outputs": [
    {
     "name": "stdout",
     "output_type": "stream",
     "text": [
      "None\n"
     ]
    }
   ],
   "source": [
    "print(a.reverse())"
   ]
  },
  {
   "cell_type": "code",
   "execution_count": 42,
   "id": "2b5e516f-790c-4df1-bde0-d502a1653b3a",
   "metadata": {},
   "outputs": [],
   "source": [
    "l =[1,2,3,4,5]\n",
    "l =l.reverse()"
   ]
  },
  {
   "cell_type": "code",
   "execution_count": 43,
   "id": "2065e35b-1a60-48cb-8022-39439b4d8f7f",
   "metadata": {},
   "outputs": [
    {
     "name": "stdout",
     "output_type": "stream",
     "text": [
      "None\n"
     ]
    }
   ],
   "source": [
    "print(l)"
   ]
  },
  {
   "cell_type": "code",
   "execution_count": null,
   "id": "47d6f956-0dd7-49bf-920b-817774d7bb6e",
   "metadata": {},
   "outputs": [],
   "source": [
    "Reduce function()"
   ]
  },
  {
   "cell_type": "code",
   "execution_count": 2,
   "id": "b4d428ba-85f2-4c06-9901-95e1be943a99",
   "metadata": {},
   "outputs": [],
   "source": [
    "from functools import reduce"
   ]
  },
  {
   "cell_type": "code",
   "execution_count": 46,
   "id": "40b95527-de2c-49ef-a116-c0e2ab0a0349",
   "metadata": {},
   "outputs": [
    {
     "data": {
      "text/plain": [
       "6"
      ]
     },
     "execution_count": 46,
     "metadata": {},
     "output_type": "execute_result"
    }
   ],
   "source": [
    "l= [1,2,3]\n",
    "reduce(lambda a,b: a*b, l)"
   ]
  },
  {
   "cell_type": "code",
   "execution_count": 48,
   "id": "218a0883-2090-441e-8868-04c23fc2d213",
   "metadata": {},
   "outputs": [
    {
     "data": {
      "text/plain": [
       "55"
      ]
     },
     "execution_count": 48,
     "metadata": {},
     "output_type": "execute_result"
    }
   ],
   "source": [
    "#reduce function to get single valued result instead of a list.compares 1st and 2nd element\n",
    "#.Find factorial using lambda\n",
    "# find the greatest number in the list.\n",
    "l1 =[1,2,2,44,55]\n",
    "reduce(lambda a,b: a if a>b else b, l1)"
   ]
  },
  {
   "cell_type": "code",
   "execution_count": 3,
   "id": "0b45d10f-5dd3-48ce-b14d-295df2ef851b",
   "metadata": {},
   "outputs": [
    {
     "data": {
      "text/plain": [
       "362880"
      ]
     },
     "execution_count": 3,
     "metadata": {},
     "output_type": "execute_result"
    }
   ],
   "source": [
    "n=9\n",
    "reduce(lambda a,b: a*b, range(1, n+1))"
   ]
  },
  {
   "cell_type": "code",
   "execution_count": 7,
   "id": "de6731cb-c60f-4dbd-b893-b055d2164ee8",
   "metadata": {},
   "outputs": [
    {
     "data": {
      "text/plain": [
       "96"
      ]
     },
     "execution_count": 7,
     "metadata": {},
     "output_type": "execute_result"
    }
   ],
   "source": [
    "l = [2,4,6,3,5,2]\n",
    "l1 = [i for i in l if i%2 == 0]\n",
    "reduce(lambda a,b: a*b, l1)"
   ]
  },
  {
   "cell_type": "code",
   "execution_count": null,
   "id": "5f76b764-4f10-4989-a4a8-f3fa46ee4bd7",
   "metadata": {},
   "outputs": [],
   "source": [
    "using filter function():"
   ]
  },
  {
   "cell_type": "code",
   "execution_count": 9,
   "id": "528ed5bb-cde2-474d-bdc8-6ead9904a5f5",
   "metadata": {},
   "outputs": [
    {
     "data": {
      "text/plain": [
       "[2, 4, 6, 2]"
      ]
     },
     "execution_count": 9,
     "metadata": {},
     "output_type": "execute_result"
    }
   ],
   "source": [
    "list(filter(lambda a: a%2==0, l))"
   ]
  },
  {
   "cell_type": "code",
   "execution_count": null,
   "id": "d86335ce-8037-40d6-a887-2ecda068142c",
   "metadata": {},
   "outputs": [],
   "source": [
    "Recurrsion:------------------------------------------"
   ]
  },
  {
   "cell_type": "code",
   "execution_count": 12,
   "id": "c93e869f-e817-4071-b6fa-e32265a8d73b",
   "metadata": {},
   "outputs": [],
   "source": [
    "#Fibonacci:\n",
    "def fibonacci(n):\n",
    "    l=[0,1]\n",
    "    \n",
    "    while len(l)<n:\n",
    "        next= l[len(l)-1] + l[len(l)-2]\n",
    "        l.append(next)\n",
    "    return(\"first ten Fibonacci numbers are: \", l)\n",
    "    "
   ]
  },
  {
   "cell_type": "code",
   "execution_count": 14,
   "id": "f27f0a9c-a438-422e-ace0-1f376131ef2b",
   "metadata": {},
   "outputs": [
    {
     "data": {
      "text/plain": [
       "('first ten Fibonacci numbers are: ', [0, 1, 1, 2, 3, 5, 8, 13, 21, 34])"
      ]
     },
     "execution_count": 14,
     "metadata": {},
     "output_type": "execute_result"
    }
   ],
   "source": [
    "fibonacci(10)"
   ]
  },
  {
   "cell_type": "code",
   "execution_count": 17,
   "id": "c043cf92-48b6-490b-a21f-86a39c65b351",
   "metadata": {},
   "outputs": [],
   "source": [
    "#fibonacci using recurrsion\n",
    "def gen_fibonaci(n):\n",
    "    if n<=1:\n",
    "        return n\n",
    "    else:\n",
    "        return gen_fibonaci(n-1) + gen_fibonaci(n-2)"
   ]
  },
  {
   "cell_type": "code",
   "execution_count": 19,
   "id": "72ba5ffd-887d-4013-a3ed-957b9b24578d",
   "metadata": {},
   "outputs": [
    {
     "data": {
      "text/plain": [
       "13"
      ]
     },
     "execution_count": 19,
     "metadata": {},
     "output_type": "execute_result"
    }
   ],
   "source": [
    "gen_fibonaci(7)"
   ]
  },
  {
   "cell_type": "code",
   "execution_count": 27,
   "id": "30128ee2-34d8-4709-8027-d09e94cb8f00",
   "metadata": {},
   "outputs": [],
   "source": [
    "#Factorial sing recurrsion>\n",
    "def factorial(n):\n",
    "    if n <=0:\n",
    "        return 1\n",
    "    else:\n",
    "        \n",
    "        return n*factorial(n-1)"
   ]
  },
  {
   "cell_type": "code",
   "execution_count": 29,
   "id": "dadb7501-fa11-4299-bc91-9ee0f8511b0c",
   "metadata": {},
   "outputs": [
    {
     "data": {
      "text/plain": [
       "720"
      ]
     },
     "execution_count": 29,
     "metadata": {},
     "output_type": "execute_result"
    }
   ],
   "source": [
    "factorial(6)"
   ]
  },
  {
   "cell_type": "code",
   "execution_count": 30,
   "id": "f56f4710-8b9f-4da6-890d-fef6982d7471",
   "metadata": {},
   "outputs": [],
   "source": [
    "# Sum of n numbers using recurrsion>\n",
    "def sum(n):\n",
    "    if n == 1:\n",
    "        return 1\n",
    "    else:\n",
    "        return n + sum(n-1)"
   ]
  },
  {
   "cell_type": "code",
   "execution_count": 31,
   "id": "3e4b9ef8-8ac2-4cce-8ab1-7bfae26ee69f",
   "metadata": {},
   "outputs": [
    {
     "data": {
      "text/plain": [
       "15"
      ]
     },
     "execution_count": 31,
     "metadata": {},
     "output_type": "execute_result"
    }
   ],
   "source": [
    "sum(5)\n",
    "# 5 + sum(4)\n",
    "# 5+4+sum(3)\n",
    "# 5+4+3+ sum(2)....."
   ]
  },
  {
   "cell_type": "code",
   "execution_count": null,
   "id": "9a0f8fac-b494-4f06-a82e-6f8a3c87f229",
   "metadata": {},
   "outputs": [],
   "source": [
    "Recurrsive call is just like a chain rule in dy/dx calculus."
   ]
  },
  {
   "cell_type": "markdown",
   "id": "ad2e1721-745c-4e9f-a3b9-29115a18e641",
   "metadata": {},
   "source": [
    "Recursion:-\n",
    "\n",
    "Explain the concept of recursion in Python. How does it differ from iteration?\n",
    "\n",
    "Write a Python program to calculate the factorial of a number using recursion.\n",
    "\n",
    "Create a recursive Python function to find the nth Fibonacci number.\n",
    "\n",
    "Write a recursive Python function to calculate the sum of all elements in a list.\n",
    "\n",
    "How can you prevent a recursive function from running indefinitely, causing a stack overflow error?\n",
    "\n",
    "Create a recursive Python function to find the greatest common divisor (GCD) of two numbers using the Euclidean algorithm.\n",
    "\n",
    "Write a recursive Python function to reverse a string.\n",
    "\n",
    "Create a recursive Python function to calculate the power of a number (x^n).\n",
    "\n",
    "Write a recursive Python function to find all permutations of a given string.\n",
    "\n",
    "Write a recursive Python function to check if a string is a palindrome.\n",
    "\n",
    "Create a recursive Python function to generate all possible combinations of a list of elements\n"
   ]
  },
  {
   "cell_type": "code",
   "execution_count": 33,
   "id": "07c2a4f2-ad4c-40b0-8088-0fd169f97119",
   "metadata": {},
   "outputs": [],
   "source": [
    "#Finding power of a number using recurrsion\n",
    "def power(x,n):\n",
    "    if n==0:\n",
    "        return 1\n",
    "    else:\n",
    "        return x* power(x,n-1)\n",
    "    \n",
    "        \n",
    "        "
   ]
  },
  {
   "cell_type": "code",
   "execution_count": 36,
   "id": "8ccecbe1-8fd4-43b0-934d-856bcd58805b",
   "metadata": {},
   "outputs": [
    {
     "data": {
      "text/plain": [
       "243"
      ]
     },
     "execution_count": 36,
     "metadata": {},
     "output_type": "execute_result"
    }
   ],
   "source": [
    "power(3,5)"
   ]
  },
  {
   "cell_type": "code",
   "execution_count": 67,
   "id": "7932a716-204b-4da5-b577-4302f19d02cc",
   "metadata": {},
   "outputs": [],
   "source": [
    "# check if a string is palindrome using recurrsion\n",
    "def check_palindrome(my_str): #abcd, # refer\n",
    "    if len(my_str) < 1:\n",
    "        return True\n",
    "    else:\n",
    "         if my_str[0] == my_str[-1]: # a == d? # r == r?\n",
    "            return check_palindrome(my_str[1:-1])\n",
    "         else:\n",
    "                return False"
   ]
  },
  {
   "cell_type": "code",
   "execution_count": 70,
   "id": "d2692e18-ab17-46a8-9312-7c9f132424fa",
   "metadata": {},
   "outputs": [
    {
     "data": {
      "text/plain": [
       "False"
      ]
     },
     "execution_count": 70,
     "metadata": {},
     "output_type": "execute_result"
    }
   ],
   "source": [
    "check_palindrome(\"byuuio\")"
   ]
  },
  {
   "cell_type": "code",
   "execution_count": 72,
   "id": "00e74cd6-276a-467a-93c8-6f750ea43a83",
   "metadata": {},
   "outputs": [],
   "source": [
    "s = \"refer\""
   ]
  },
  {
   "cell_type": "code",
   "execution_count": 73,
   "id": "59335b09-ecad-4038-9809-2ea023da727a",
   "metadata": {},
   "outputs": [
    {
     "data": {
      "text/plain": [
       "('r', 'r')"
      ]
     },
     "execution_count": 73,
     "metadata": {},
     "output_type": "execute_result"
    }
   ],
   "source": [
    "s[0],s[-1]"
   ]
  },
  {
   "cell_type": "code",
   "execution_count": 74,
   "id": "4600e0f2-e4b4-4449-8946-38a71a09248a",
   "metadata": {},
   "outputs": [
    {
     "data": {
      "text/plain": [
       "'efe'"
      ]
     },
     "execution_count": 74,
     "metadata": {},
     "output_type": "execute_result"
    }
   ],
   "source": [
    "s[1:-1]"
   ]
  },
  {
   "cell_type": "code",
   "execution_count": 13,
   "id": "21445bea-9b8e-4d92-a320-22acaed4d03a",
   "metadata": {},
   "outputs": [],
   "source": [
    "# finding GCD of numbers using recurrsion using Euclidian algorithm.\n",
    "def gcd(a,b):\n",
    "    if b == 0:  \n",
    "        return a\n",
    "    else:\n",
    "        return gcd(b, (a%b))\n",
    "        \n",
    "        "
   ]
  },
  {
   "cell_type": "code",
   "execution_count": 14,
   "id": "688826d4-18ec-4ac0-b6ce-ff426f68e6e4",
   "metadata": {},
   "outputs": [
    {
     "data": {
      "text/plain": [
       "22"
      ]
     },
     "execution_count": 14,
     "metadata": {},
     "output_type": "execute_result"
    }
   ],
   "source": [
    "gcd(0,22)"
   ]
  },
  {
   "cell_type": "code",
   "execution_count": null,
   "id": "41108ad4-7fb4-47a1-bbde-46de1422c9c1",
   "metadata": {},
   "outputs": [],
   "source": [
    "#regular GCD:\n",
    "a = 10\n",
    "b = 20\n",
    "if a>b:\n",
    "    temp = b\n",
    "else:\n",
    "    temp = a\n",
    "for i in range( 1, temp+1):\n",
    "    if (a%i == 0) and (b%i == 0):\n",
    "        gcd = i\n",
    "print(gcd)        "
   ]
  },
  {
   "cell_type": "code",
   "execution_count": 49,
   "id": "7b7bb8b1-cd73-4e45-8757-1a5c8dcb23dd",
   "metadata": {},
   "outputs": [],
   "source": [
    "# reverse a string using recurrsion.\n",
    "def reverse(s):\n",
    "    if len(s) == 0:\n",
    "        return s\n",
    "    else:\n",
    "        return reverse(s[1:]) + s[0]"
   ]
  },
  {
   "cell_type": "code",
   "execution_count": 50,
   "id": "78bf8e53-b1f4-4874-ae9d-154d59a49891",
   "metadata": {},
   "outputs": [
    {
     "data": {
      "text/plain": [
       "'elppa'"
      ]
     },
     "execution_count": 50,
     "metadata": {},
     "output_type": "execute_result"
    }
   ],
   "source": [
    "reverse(\"apple\")"
   ]
  },
  {
   "cell_type": "code",
   "execution_count": null,
   "id": "6f408e3f-7767-497b-9764-bbe29a523942",
   "metadata": {},
   "outputs": [],
   "source": [
    "# Find permutations of a given string using recurrsion.\n",
    "def permutation(word):\n",
    "    if len(word)==1:\n",
    "        return word\n",
    "    perms= permutation(word[1:])\n",
    "    char = word[0]\n",
    "    \n",
    "    "
   ]
  },
  {
   "cell_type": "code",
   "execution_count": 1,
   "id": "c536833d-53bd-41d4-b5da-0e0f3727247d",
   "metadata": {},
   "outputs": [],
   "source": [
    "def perms(s):        \n",
    "    if(len(s)==1): return [s]\n",
    "    result=[]\n",
    "    for i,v in enumerate(s):\n",
    "        result += [v+p for p in perms(s[:i]+s[i+1:])]\n",
    "    return result"
   ]
  },
  {
   "cell_type": "code",
   "execution_count": 2,
   "id": "3ea0b2cc-35e4-4add-a1be-621bccb3afc9",
   "metadata": {},
   "outputs": [
    {
     "data": {
      "text/plain": [
       "['abc', 'acb', 'bac', 'bca', 'cab', 'cba']"
      ]
     },
     "execution_count": 2,
     "metadata": {},
     "output_type": "execute_result"
    }
   ],
   "source": [
    "perms('abc')"
   ]
  },
  {
   "cell_type": "code",
   "execution_count": 2,
   "id": "685a6681-1f36-4379-ae3e-b5b3d51431c1",
   "metadata": {},
   "outputs": [],
   "source": [
    "s = \"abc\"\n",
    "d= enumerate(s)"
   ]
  },
  {
   "cell_type": "code",
   "execution_count": 8,
   "id": "1f3df211-d074-46dc-b142-345a9ee7f448",
   "metadata": {},
   "outputs": [],
   "source": [
    "for i,v in d:\n",
    "    print (v)\n",
    "    "
   ]
  },
  {
   "cell_type": "code",
   "execution_count": 7,
   "id": "63e1024a-9cde-4f9b-b90d-897b13795d72",
   "metadata": {},
   "outputs": [
    {
     "data": {
      "text/plain": [
       "'bc'"
      ]
     },
     "execution_count": 7,
     "metadata": {},
     "output_type": "execute_result"
    }
   ],
   "source": [
    "s[:0] + s[0+1:]"
   ]
  },
  {
   "attachments": {
    "8e09d51e-355c-4a2e-80d2-734b9718c87d.png": {
     "image/png": "[encoded data removed]"
    }
   },
   "cell_type": "markdown",
   "id": "adff79ba-ceab-4ebd-aaff-550210a69c4f",
   "metadata": {},
   "source": [
    "![image.png](attachment:8e09d51e-355c-4a2e-80d2-734b9718c87d.png)"
   ]
  },
  {
   "cell_type": "code",
   "execution_count": 10,
   "id": "fde19a17-ef74-469d-98e9-b5c355cabcf6",
   "metadata": {},
   "outputs": [],
   "source": [
    "def get_permutation(string):  # \"abc\"\n",
    "    if len(string)==0:\n",
    "        return []\n",
    "    if len(string)==1:\n",
    "        return [string]\n",
    "    perms = []\n",
    "    for i in range(len(string)):\n",
    "        char = string[i] # string[0]=\"a\"\n",
    "        remaining_chars = string[:i] + string[i+1:] #string[:0] +string[0+1:] = \"bc\"\n",
    "        for permutation in get_permutation(remaining_chars):# Recursive call\n",
    "            perms.append(char + permutation)\n",
    "    return perms        \n",
    "        \n",
    "        \n",
    "        \n",
    "    "
   ]
  },
  {
   "cell_type": "code",
   "execution_count": 11,
   "id": "8949d4d6-a674-4aa5-b5af-f6a8843b24b0",
   "metadata": {},
   "outputs": [
    {
     "data": {
      "text/plain": [
       "['abc', 'acb', 'bac', 'bca', 'cab', 'cba']"
      ]
     },
     "execution_count": 11,
     "metadata": {},
     "output_type": "execute_result"
    }
   ],
   "source": [
    "get_permutation(\"abc\")"
   ]
  },
  {
   "cell_type": "code",
   "execution_count": 15,
   "id": "e56641e9-821e-4900-a1e5-9b56dfbd0c26",
   "metadata": {},
   "outputs": [
    {
     "data": {
      "text/plain": [
       "'ab'"
      ]
     },
     "execution_count": 15,
     "metadata": {},
     "output_type": "execute_result"
    }
   ],
   "source": [
    "s[:-1]"
   ]
  },
  {
   "cell_type": "code",
   "execution_count": 19,
   "id": "4f1f91bf-ab1d-4fdc-a5cb-a5575f2dc935",
   "metadata": {},
   "outputs": [
    {
     "name": "stdout",
     "output_type": "stream",
     "text": [
      "[[], [1], [2], [1, 2], [3], [1, 3], [2, 3], [1, 2, 3]]\n"
     ]
    }
   ],
   "source": [
    "def combinations(l): # [1,2,3]\n",
    "    result = [[]]\n",
    "    for x in l:    \n",
    "        #result = result + [x] +[r]\n",
    "        result = result + [c + [x] for c in result]\n",
    "    return result\n",
    "\n",
    "print(combinations([1,2,3]))"
   ]
  },
  {
   "cell_type": "code",
   "execution_count": 20,
   "id": "7ffac705-a935-484b-af51-9cb80d60249b",
   "metadata": {},
   "outputs": [
    {
     "data": {
      "text/plain": [
       "[1, 2]"
      ]
     },
     "execution_count": 20,
     "metadata": {},
     "output_type": "execute_result"
    }
   ],
   "source": [
    "l = [1]\n",
    "l+[2]"
   ]
  },
  {
   "cell_type": "code",
   "execution_count": 21,
   "id": "56655fa1-b11d-4aad-93de-5e96226dc4ce",
   "metadata": {},
   "outputs": [],
   "source": [
    "def combinations(l):\n",
    "    if l:\n",
    "        result = combinations(l[:-1])\n",
    "        return result + [c + [l[-1]] for c in result]\n",
    "    else:\n",
    "        return [[]]\n"
   ]
  },
  {
   "cell_type": "code",
   "execution_count": 22,
   "id": "191fa355-f1d1-4c3b-b0a1-1934f4e93bd0",
   "metadata": {},
   "outputs": [
    {
     "data": {
      "text/plain": [
       "[[], [1], [2], [1, 2], [3], [1, 3], [2, 3], [1, 2, 3]]"
      ]
     },
     "execution_count": 22,
     "metadata": {},
     "output_type": "execute_result"
    }
   ],
   "source": [
    "combinations([1,2,3])"
   ]
  },
  {
   "cell_type": "code",
   "execution_count": null,
   "id": "36993662-f341-4bcf-a103-26b02f404d1c",
   "metadata": {},
   "outputs": [],
   "source": [
    "Class8: september 23, 2023\n"
   ]
  },
  {
   "cell_type": "code",
   "execution_count": null,
   "id": "0b4bc462-d73a-46d5-b28b-b37f4fce7aa2",
   "metadata": {},
   "outputs": [],
   "source": [
    "while loop"
   ]
  },
  {
   "cell_type": "code",
   "execution_count": 1,
   "id": "0d5209e5-31f4-4d7f-8ee9-4c80de63ee5e",
   "metadata": {},
   "outputs": [
    {
     "name": "stdout",
     "output_type": "stream",
     "text": [
      "12\n",
      "24\n",
      "36\n",
      "48\n",
      "60\n",
      "72\n",
      "84\n",
      "96\n",
      "108\n",
      "120\n"
     ]
    }
   ],
   "source": [
    "n = 12\n",
    "i=1\n",
    "while i<=10:\n",
    "    print(n*i)\n",
    "    i=i+1\n",
    "    "
   ]
  },
  {
   "cell_type": "code",
   "execution_count": 7,
   "id": "3fde089b-bc34-4432-a638-a069a5f567c0",
   "metadata": {},
   "outputs": [
    {
     "name": "stdout",
     "output_type": "stream",
     "text": [
      "0\n",
      "1\n",
      "2\n",
      "3\n",
      "4\n",
      "5\n",
      "6\n",
      "7\n",
      "8\n"
     ]
    },
    {
     "ename": "KeyboardInterrupt",
     "evalue": "",
     "output_type": "error",
     "traceback": [
      "\u001b[0;31m---------------------------------------------------------------------------\u001b[0m",
      "\u001b[0;31mKeyboardInterrupt\u001b[0m                         Traceback (most recent call last)",
      "Cell \u001b[0;32mIn[7], line 5\u001b[0m\n\u001b[1;32m      3\u001b[0m \u001b[38;5;28;01mwhile\u001b[39;00m s \u001b[38;5;241m>\u001b[39m\u001b[38;5;241m=\u001b[39m \u001b[38;5;241m0\u001b[39m:\n\u001b[1;32m      4\u001b[0m     \u001b[38;5;28mprint\u001b[39m(s)\n\u001b[0;32m----> 5\u001b[0m     \u001b[43mtime\u001b[49m\u001b[38;5;241;43m.\u001b[39;49m\u001b[43msleep\u001b[49m\u001b[43m(\u001b[49m\u001b[38;5;241;43m60\u001b[39;49m\u001b[43m)\u001b[49m\n\u001b[1;32m      6\u001b[0m     s \u001b[38;5;241m=\u001b[39m s\u001b[38;5;241m+\u001b[39m\u001b[38;5;241m1\u001b[39m\n\u001b[1;32m      7\u001b[0m     \u001b[38;5;28;01mif\u001b[39;00m s\u001b[38;5;241m==\u001b[39m \u001b[38;5;241m420\u001b[39m:\n",
      "\u001b[0;31mKeyboardInterrupt\u001b[0m: "
     ]
    }
   ],
   "source": [
    "import time # & minute break time\n",
    "s = 0\n",
    "while s >= 0:\n",
    "    print(s)\n",
    "    time.sleep(60)\n",
    "    s = s+1\n",
    "    if s== 7:\n",
    "        break\n",
    "\n"
   ]
  },
  {
   "cell_type": "code",
   "execution_count": null,
   "id": "f56c795c-2156-4070-943d-d43651696928",
   "metadata": {},
   "outputs": [],
   "source": []
  },
  {
   "cell_type": "code",
   "execution_count": null,
   "id": "aff1fd62-6ebf-49b5-a7d5-da6cadfb7a7b",
   "metadata": {},
   "outputs": [],
   "source": []
  },
  {
   "cell_type": "code",
   "execution_count": 20,
   "id": "a08e1f5b-ae72-4e23-8688-17fe4aceda4c",
   "metadata": {},
   "outputs": [
    {
     "name": "stdin",
     "output_type": "stream",
     "text": [
      "enter user_id: a\n",
      "enter password: a\n",
      "enter password again: a\n"
     ]
    },
    {
     "name": "stdout",
     "output_type": "stream",
     "text": [
      "a\n"
     ]
    },
    {
     "name": "stdin",
     "output_type": "stream",
     "text": [
      "enter password again: a\n"
     ]
    },
    {
     "name": "stdout",
     "output_type": "stream",
     "text": [
      "a\n"
     ]
    },
    {
     "name": "stdin",
     "output_type": "stream",
     "text": [
      "enter password again: a\n"
     ]
    },
    {
     "name": "stdout",
     "output_type": "stream",
     "text": [
      "a\n",
      " you have exceeded y our chances\n"
     ]
    }
   ],
   "source": [
    "user_id = input(\"enter user_id:\")\n",
    "password = input(\"enter password:\")\n",
    "chance = 1\n",
    "if password == 'abcd':\n",
    "    print(\"welcome to the page\")\n",
    "else:\n",
    "    \n",
    "    while chance <=3 and password != 'abcd':\n",
    "        print(input(\"enter password again:\"))\n",
    "        chance = chance + 1\n",
    "    print(\" you have exceeded your chances !\")\n",
    "    \n",
    "    "
   ]
  },
  {
   "cell_type": "code",
   "execution_count": null,
   "id": "714d24ba-6d1b-43f5-8541-10ea673a7f58",
   "metadata": {},
   "outputs": [],
   "source": [
    "to_do =[]\n",
    "end_to_do = \"no\"\n",
    "while end_to_do != \"yes\":\n",
    "    item = input(\"enter your task\")\n",
    "    add_to_do = to_do.append(item)\n",
    "    end_to_do = input(\"enter no if you want to end\")"
   ]
  },
  {
   "cell_type": "code",
   "execution_count": null,
   "id": "304ce256-974d-43d9-a724-ba55edd97f23",
   "metadata": {},
   "outputs": [],
   "source": [
    "Recursion:\n",
    "    # Fibonacci\n",
    "    #Factorial"
   ]
  },
  {
   "cell_type": "code",
   "execution_count": 1,
   "id": "e68dc7e8-1629-4868-a513-21b8822eb346",
   "metadata": {},
   "outputs": [],
   "source": [
    "def sum_digit(n):\n",
    "    if n <=9:\n",
    "        return n\n",
    "    else:\n",
    "        n%10 + sum_digit(n//10)"
   ]
  },
  {
   "cell_type": "code",
   "execution_count": 7,
   "id": "95ed2f63-1ea1-4d7d-b9a9-13882ff166f9",
   "metadata": {},
   "outputs": [
    {
     "data": {
      "text/plain": [
       "100"
      ]
     },
     "execution_count": 7,
     "metadata": {},
     "output_type": "execute_result"
    }
   ],
   "source": [
    "# Try to find out the maximum number.\n",
    "l =[6,1,2,3,4,22,4,5,100]\n",
    "a=l[0]\n",
    "for i in l:\n",
    "    if a < i:\n",
    "        a=i\n",
    "a        "
   ]
  },
  {
   "cell_type": "code",
   "execution_count": 1,
   "id": "2a3b7e3e-094c-400d-b913-29fc93e55a87",
   "metadata": {},
   "outputs": [],
   "source": [
    "def max_find(l):\n",
    "    if len(l) == 1:\n",
    "        return l[0]\n",
    "    else:\n",
    "        return max(l[0],max_find(l[1:]))"
   ]
  },
  {
   "cell_type": "code",
   "execution_count": 3,
   "id": "1511ad9e-f827-4d7e-afe8-cbfa58ea5ec4",
   "metadata": {},
   "outputs": [
    {
     "data": {
      "text/plain": [
       "102"
      ]
     },
     "execution_count": 3,
     "metadata": {},
     "output_type": "execute_result"
    }
   ],
   "source": [
    "max_find([1,2,102,3,4,99])"
   ]
  },
  {
   "cell_type": "code",
   "execution_count": 4,
   "id": "b4cf7265-4aba-48d0-a8e9-629c54c061bd",
   "metadata": {},
   "outputs": [
    {
     "data": {
      "text/plain": [
       "4"
      ]
     },
     "execution_count": 4,
     "metadata": {},
     "output_type": "execute_result"
    }
   ],
   "source": [
    "max(2,4)"
   ]
  },
  {
   "cell_type": "code",
   "execution_count": 5,
   "id": "a0867674-2552-414d-9f27-428458f5d28b",
   "metadata": {},
   "outputs": [
    {
     "data": {
      "text/plain": [
       "339"
      ]
     },
     "execution_count": 5,
     "metadata": {},
     "output_type": "execute_result"
    }
   ],
   "source": [
    "max([1,2,339,88,90])"
   ]
  },
  {
   "cell_type": "code",
   "execution_count": null,
   "id": "063bbdf2-529a-461e-8c52-08bf28c0b0b8",
   "metadata": {},
   "outputs": [],
   "source": []
  }
 ],
 "metadata": {
  "kernelspec": {
   "display_name": "Python 3 (ipykernel)",
   "language": "python",
   "name": "python3"
  },
  "language_info": {
   "codemirror_mode": {
    "name": "ipython",
    "version": 3
   },
   "file_extension": ".py",
   "mimetype": "text/x-python",
   "name": "python",
   "nbconvert_exporter": "python",
   "pygments_lexer": "ipython3",
   "version": "3.10.8"
  }
 },
 "nbformat": 4,
 "nbformat_minor": 5
}
