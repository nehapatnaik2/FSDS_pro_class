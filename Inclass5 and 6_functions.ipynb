{
 "cells": [
  {
   "cell_type": "markdown",
   "id": "c1282c01-1992-4be4-acde-f20887665c5a",
   "metadata": {},
   "source": [
    "Break:\n",
    "Break statement will exit from the loop."
   ]
  },
  {
   "cell_type": "code",
   "execution_count": 4,
   "id": "dbba7dc7-9468-4cc6-b9e1-ab6321b5325c",
   "metadata": {},
   "outputs": [
    {
     "name": "stdout",
     "output_type": "stream",
     "text": [
      "1\n",
      "2\n",
      "3\n",
      "40\n",
      "50\n",
      "20\n"
     ]
    }
   ],
   "source": [
    "numbers =[1,2,3,40, 100, 50, 250, 20]\n",
    "for i in numbers:\n",
    "    if i >=100:\n",
    "        continue\n",
    "        #break\n",
    "    print(i)    "
   ]
  },
  {
   "cell_type": "markdown",
   "id": "53d8cf32-c773-4de1-ba1c-f798cdb6276c",
   "metadata": {},
   "source": [
    "#continue statement:\n",
    "It skips that particular iteration/condition given."
   ]
  },
  {
   "cell_type": "code",
   "execution_count": 7,
   "id": "fe768e1b-b662-42c6-90a0-c377fcc2c851",
   "metadata": {},
   "outputs": [
    {
     "name": "stdout",
     "output_type": "stream",
     "text": [
      "p\n",
      "w\n",
      "s\n",
      "k\n",
      "i\n",
      "l\n",
      "l\n",
      "s\n"
     ]
    }
   ],
   "source": [
    "for letter in 'pwskills':\n",
    "    \n",
    "    if letter ==i:\n",
    "        continue\n",
    "    print(letter)"
   ]
  },
  {
   "cell_type": "markdown",
   "id": "ddc0467e-6d5f-4140-a35f-e99c228c8693",
   "metadata": {},
   "source": [
    "\"\"\"Pass statement:\n",
    "During development stage you cannot keep some syntax empty.\n",
    "To avoid getting an error we use pass statement.\"\"\""
   ]
  },
  {
   "cell_type": "code",
   "execution_count": 8,
   "id": "670fdc04-2126-4c33-9296-d9e8a15f836c",
   "metadata": {},
   "outputs": [
    {
     "name": "stdout",
     "output_type": "stream",
     "text": [
      "hello\n"
     ]
    }
   ],
   "source": [
    "n= 10\n",
    "if n>10:\n",
    "    pass\n",
    "print(\"hello\")"
   ]
  },
  {
   "cell_type": "code",
   "execution_count": 9,
   "id": "837f6bf8-b67a-41e4-a551-1f281d6a8982",
   "metadata": {},
   "outputs": [],
   "source": [
    "n>45\n",
    "pass"
   ]
  },
  {
   "cell_type": "markdown",
   "id": "65b55dfa-3f3f-470f-b735-237e198110b4",
   "metadata": {},
   "source": [
    "Functions: block of code. we can make use of tha function"
   ]
  },
  {
   "cell_type": "code",
   "execution_count": 10,
   "id": "f50cfd41-7d82-47c0-b663-b0422b1a1561",
   "metadata": {},
   "outputs": [],
   "source": [
    "def my_function(a,b):\n",
    "    return a+b"
   ]
  },
  {
   "cell_type": "code",
   "execution_count": 11,
   "id": "b3327f92-890c-4b7b-87e3-9232e178e076",
   "metadata": {},
   "outputs": [
    {
     "data": {
      "text/plain": [
       "7"
      ]
     },
     "execution_count": 11,
     "metadata": {},
     "output_type": "execute_result"
    }
   ],
   "source": [
    "my_function(3,4)"
   ]
  },
  {
   "cell_type": "code",
   "execution_count": null,
   "id": "9426ad08-4e53-4506-8cc6-4150f3e06d9d",
   "metadata": {},
   "outputs": [],
   "source": [
    "def function_name(a,b # arguments):\n",
    "    #body \n",
    "    return"
   ]
  },
  {
   "cell_type": "code",
   "execution_count": 12,
   "id": "c9010ab9-6add-4ed9-87de-74353b4d8773",
   "metadata": {},
   "outputs": [],
   "source": [
    "def greet():\n",
    "    return \"Hello world\""
   ]
  },
  {
   "cell_type": "code",
   "execution_count": 13,
   "id": "6d974794-8e9a-41cb-a712-d4fb90d22aa3",
   "metadata": {},
   "outputs": [
    {
     "data": {
      "text/plain": [
       "'Hello world'"
      ]
     },
     "execution_count": 13,
     "metadata": {},
     "output_type": "execute_result"
    }
   ],
   "source": [
    "greet()"
   ]
  },
  {
   "cell_type": "code",
   "execution_count": 14,
   "id": "0987243c-69f4-465f-9411-5ee050714ea8",
   "metadata": {},
   "outputs": [],
   "source": [
    "def greet(name):\n",
    "    print(\"hi\", name)"
   ]
  },
  {
   "cell_type": "markdown",
   "id": "af165ca9-883e-49c1-9eb1-81bae01d5702",
   "metadata": {},
   "source": [
    "Return statement:"
   ]
  },
  {
   "cell_type": "code",
   "execution_count": 18,
   "id": "d3a6c6b3-9237-40ee-b750-9f5e0964aab3",
   "metadata": {},
   "outputs": [],
   "source": [
    "# Return stores the value in a variable. That variable can be later used anywhere in the program.\n",
    "def my_function(a,b):\n",
    "    c = a+b\n",
    "    return c"
   ]
  },
  {
   "cell_type": "code",
   "execution_count": 20,
   "id": "169424bd-e0fc-4ae2-bff0-923bc96f94a9",
   "metadata": {},
   "outputs": [],
   "source": [
    "x = my_function(4,5)"
   ]
  },
  {
   "cell_type": "code",
   "execution_count": 21,
   "id": "a89c85cb-cf59-47e7-ae76-3e0e08dff377",
   "metadata": {},
   "outputs": [
    {
     "data": {
      "text/plain": [
       "9"
      ]
     },
     "execution_count": 21,
     "metadata": {},
     "output_type": "execute_result"
    }
   ],
   "source": [
    "x"
   ]
  },
  {
   "cell_type": "code",
   "execution_count": null,
   "id": "54f95f8d-2985-476c-b70b-526edd909e84",
   "metadata": {},
   "outputs": [],
   "source": [
    "*agrs and **kargs\n",
    "A function can accept n numbers of arguments.\n",
    "** means you have to passa key word"
   ]
  },
  {
   "cell_type": "code",
   "execution_count": 5,
   "id": "6fc43b31-6470-4f0e-8e5a-023882737a29",
   "metadata": {},
   "outputs": [],
   "source": [
    "def add_num(*numbers):\n",
    "    result=0\n",
    "    for num in numbers:\n",
    "        \n",
    "        result = result+num\n",
    "    print(\"sum\", result)"
   ]
  },
  {
   "cell_type": "code",
   "execution_count": 6,
   "id": "0778e62b-bf92-4a07-95df-860bf495d326",
   "metadata": {},
   "outputs": [
    {
     "name": "stdout",
     "output_type": "stream",
     "text": [
      "sum 66\n"
     ]
    }
   ],
   "source": [
    "add_num(1,2,2,3,3,55)"
   ]
  },
  {
   "cell_type": "code",
   "execution_count": 7,
   "id": "aa6203a5-dbdb-4540-ab95-3dea2867a36a",
   "metadata": {},
   "outputs": [],
   "source": [
    "def intro(**data):\n",
    "    for k,v in data.items():\n",
    "        print(k,v)\n",
    "        \n",
    "    "
   ]
  },
  {
   "cell_type": "code",
   "execution_count": 8,
   "id": "31ada6cc-b40a-4838-8143-30addef7f450",
   "metadata": {},
   "outputs": [
    {
     "name": "stdout",
     "output_type": "stream",
     "text": [
      "name Neha\n",
      "city Hyd\n"
     ]
    }
   ],
   "source": [
    "intro(name ='Neha', city =\"Hyd\")"
   ]
  },
  {
   "cell_type": "code",
   "execution_count": 11,
   "id": "c9f530ca-7c4c-4757-b1b8-01f108fc335d",
   "metadata": {},
   "outputs": [],
   "source": [
    "def simple(**x):\n",
    "    print(x)"
   ]
  },
  {
   "cell_type": "code",
   "execution_count": 10,
   "id": "dabb60e3-101e-4b5f-9edc-4bf91761749e",
   "metadata": {},
   "outputs": [
    {
     "name": "stdout",
     "output_type": "stream",
     "text": [
      "{'name': 'Neha', 'city': 'Hyd'}\n"
     ]
    }
   ],
   "source": [
    "simple(name = 'Neha', city = \"Hyd\")"
   ]
  },
  {
   "cell_type": "code",
   "execution_count": null,
   "id": "8f91f92c-23e6-40f4-9f8e-be5508944a66",
   "metadata": {},
   "outputs": [],
   "source": [
    "for key, value in x.items():\n",
    "    print(key,value)"
   ]
  },
  {
   "cell_type": "markdown",
   "id": "3bd04e3f-e9dc-4ea3-b98a-9aa1b331265e",
   "metadata": {},
   "source": [
    "Lambda functions:"
   ]
  },
  {
   "cell_type": "code",
   "execution_count": null,
   "id": "d6e479d8-b986-45a4-af50-8d25b33d4c04",
   "metadata": {},
   "outputs": [],
   "source": [
    "lambda arguments:expression"
   ]
  },
  {
   "cell_type": "code",
   "execution_count": 12,
   "id": "7c628216-fb8d-4fec-9ffc-5de8c99360e1",
   "metadata": {},
   "outputs": [],
   "source": [
    "x = lambda:print(\"hello!\")"
   ]
  },
  {
   "cell_type": "code",
   "execution_count": 13,
   "id": "234a28a4-87f4-428c-a55f-a35586e2894b",
   "metadata": {},
   "outputs": [
    {
     "name": "stdout",
     "output_type": "stream",
     "text": [
      "hello!\n"
     ]
    }
   ],
   "source": [
    "x()"
   ]
  },
  {
   "cell_type": "code",
   "execution_count": 14,
   "id": "93298cfb-6210-4563-9728-3522be4dcc9f",
   "metadata": {},
   "outputs": [],
   "source": [
    "add = lambda a,b:a+b"
   ]
  },
  {
   "cell_type": "code",
   "execution_count": 15,
   "id": "0ca12636-4d73-4ff3-a744-a13b0f00f6d5",
   "metadata": {},
   "outputs": [
    {
     "data": {
      "text/plain": [
       "6"
      ]
     },
     "execution_count": 15,
     "metadata": {},
     "output_type": "execute_result"
    }
   ],
   "source": [
    "add(2,4)"
   ]
  },
  {
   "cell_type": "code",
   "execution_count": 16,
   "id": "f1cce845-0846-4be2-948f-6f6056d1ddab",
   "metadata": {},
   "outputs": [],
   "source": [
    "even_odd = lambda n: \"True\" if n%2==0 else \"False\""
   ]
  },
  {
   "cell_type": "code",
   "execution_count": 17,
   "id": "5d86fbd1-af67-49cf-821e-7fea613aa642",
   "metadata": {},
   "outputs": [
    {
     "data": {
      "text/plain": [
       "'True'"
      ]
     },
     "execution_count": 17,
     "metadata": {},
     "output_type": "execute_result"
    }
   ],
   "source": [
    "even_odd(2)"
   ]
  },
  {
   "cell_type": "code",
   "execution_count": null,
   "id": "32c3cd69-0164-4215-9cef-5a51538c7609",
   "metadata": {},
   "outputs": [],
   "source": [
    "Enumerate(k,v)"
   ]
  },
  {
   "cell_type": "code",
   "execution_count": null,
   "id": "2bef9ca6-0fd6-4f30-9484-02a54c714517",
   "metadata": {},
   "outputs": [],
   "source": []
  }
 ],
 "metadata": {
  "kernelspec": {
   "display_name": "Python 3 (ipykernel)",
   "language": "python",
   "name": "python3"
  },
  "language_info": {
   "codemirror_mode": {
    "name": "ipython",
    "version": 3
   },
   "file_extension": ".py",
   "mimetype": "text/x-python",
   "name": "python",
   "nbconvert_exporter": "python",
   "pygments_lexer": "ipython3",
   "version": "3.10.8"
  }
 },
 "nbformat": 4,
 "nbformat_minor": 5
}
