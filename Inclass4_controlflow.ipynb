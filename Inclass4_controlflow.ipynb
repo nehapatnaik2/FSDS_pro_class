{
 "cells": [
  {
   "cell_type": "markdown",
   "id": "08fe3767-613f-4973-ab81-317e152e5b6e",
   "metadata": {},
   "source": [
    "## Oprerator and control flow:"
   ]
  },
  {
   "cell_type": "code",
   "execution_count": null,
   "id": "3ac2c2c4-af52-464e-89b7-285e7a45ca8d",
   "metadata": {},
   "outputs": [],
   "source": [
    "Logical:\n",
    "and\n",
    "or\n",
    "not"
   ]
  },
  {
   "cell_type": "code",
   "execution_count": 2,
   "id": "66e44f69-c71c-4b65-9946-29d0b8a3a934",
   "metadata": {},
   "outputs": [
    {
     "data": {
      "text/plain": [
       "False"
      ]
     },
     "execution_count": 2,
     "metadata": {},
     "output_type": "execute_result"
    }
   ],
   "source": [
    "a = 10\n",
    "b= 20\n",
    "((a>10) and (b>20))"
   ]
  },
  {
   "cell_type": "code",
   "execution_count": 3,
   "id": "95ca2c12-47a6-4d13-807d-e9972b84cace",
   "metadata": {},
   "outputs": [
    {
     "data": {
      "text/plain": [
       "False"
      ]
     },
     "execution_count": 3,
     "metadata": {},
     "output_type": "execute_result"
    }
   ],
   "source": [
    "a = True\n",
    "not(a)"
   ]
  },
  {
   "cell_type": "code",
   "execution_count": null,
   "id": "26931f9b-fce7-4c83-9246-de08f5198396",
   "metadata": {},
   "outputs": [],
   "source": [
    "Bitwise:\n",
    "    &, |, ^, ~, >>, <<\n",
    "performs operation on binary bits.   "
   ]
  },
  {
   "cell_type": "code",
   "execution_count": 4,
   "id": "210e5d8a-14e9-49fa-8987-1522b65fd3b8",
   "metadata": {},
   "outputs": [
    {
     "data": {
      "text/plain": [
       "'0b1010'"
      ]
     },
     "execution_count": 4,
     "metadata": {},
     "output_type": "execute_result"
    }
   ],
   "source": [
    "a = 10\n",
    "bin(10)"
   ]
  },
  {
   "cell_type": "code",
   "execution_count": 6,
   "id": "668b87e1-40b7-410b-9c03-cda2d5f13697",
   "metadata": {},
   "outputs": [
    {
     "data": {
      "text/plain": [
       "0"
      ]
     },
     "execution_count": 6,
     "metadata": {},
     "output_type": "execute_result"
    }
   ],
   "source": [
    "b = 20\n",
    "a & b"
   ]
  },
  {
   "cell_type": "code",
   "execution_count": 7,
   "id": "557a0b60-c6b9-45cb-9d95-378bab8fceb0",
   "metadata": {},
   "outputs": [
    {
     "data": {
      "text/plain": [
       "-11"
      ]
     },
     "execution_count": 7,
     "metadata": {},
     "output_type": "execute_result"
    }
   ],
   "source": [
    "~a # two's cpmpliment = 1s compliment +1 "
   ]
  },
  {
   "cell_type": "code",
   "execution_count": null,
   "id": "5532d3cc-72fe-4811-a28e-83806285750e",
   "metadata": {},
   "outputs": [],
   "source": [
    "a = n\n",
    "~a = -(n+1)"
   ]
  },
  {
   "cell_type": "code",
   "execution_count": 9,
   "id": "153ed55c-e598-4c3b-b0f9-f73653a9efaf",
   "metadata": {},
   "outputs": [
    {
     "data": {
      "text/plain": [
       "5"
      ]
     },
     "execution_count": 9,
     "metadata": {},
     "output_type": "execute_result"
    }
   ],
   "source": [
    "int(0b0101)"
   ]
  },
  {
   "cell_type": "code",
   "execution_count": 10,
   "id": "49438533-90bf-47c9-912c-777330ae3d02",
   "metadata": {},
   "outputs": [],
   "source": [
    "## Control statements:"
   ]
  },
  {
   "cell_type": "code",
   "execution_count": null,
   "id": "1768107a-58f4-4b87-bcb8-45485dfb83e7",
   "metadata": {},
   "outputs": [],
   "source": [
    "if(condition)\n",
    "if(condition) else\n",
    "if condition1) elif(condition2) else\n"
   ]
  },
  {
   "cell_type": "code",
   "execution_count": 11,
   "id": "7d2a5342-f0cf-43b7-a149-019971929aa6",
   "metadata": {},
   "outputs": [
    {
     "name": "stdout",
     "output_type": "stream",
     "text": [
      "Do better\n"
     ]
    }
   ],
   "source": [
    "score = 79\n",
    "if score > 80:\n",
    "    print('good')\n",
    "elif score == 79:\n",
    "    print('Do better')\n",
    "else:\n",
    "    print(\"please enroll\")"
   ]
  },
  {
   "cell_type": "code",
   "execution_count": 13,
   "id": "c8f36eba-68cb-4e87-a388-cb217ac3af03",
   "metadata": {},
   "outputs": [
    {
     "name": "stdout",
     "output_type": "stream",
     "text": [
      "largest no. is num1\n"
     ]
    }
   ],
   "source": [
    "num1 = 40\n",
    "num2 = 20\n",
    "num3 = 30\n",
    "if num1> num2 and num1>num3 :\n",
    "    print(\"largest no. is num1\")\n",
    "elif num2> num1 and num2>num3:\n",
    "    print(\"largest no. is num1\")\n",
    "else:\n",
    "    print(\"largest is num3\")\n",
    "    "
   ]
  },
  {
   "cell_type": "code",
   "execution_count": 15,
   "id": "6acddf31-8b7f-455f-b4c6-ac570c03616f",
   "metadata": {},
   "outputs": [
    {
     "name": "stdout",
     "output_type": "stream",
     "text": [
      "the no is negative\n"
     ]
    }
   ],
   "source": [
    "#Nested if:\n",
    "num = -10\n",
    "if num >=0:\n",
    "    if num == 0:\n",
    "        print(\"no. is 0\")\n",
    "    else:\n",
    "        print(\"the no. is positive or negative\")\n",
    "else:\n",
    "    print(\"the no is negative\")"
   ]
  },
  {
   "cell_type": "code",
   "execution_count": 17,
   "id": "14963a5a-72ab-4b11-bde6-973c1472e27d",
   "metadata": {},
   "outputs": [
    {
     "name": "stdout",
     "output_type": "stream",
     "text": [
      "0\n",
      "2\n",
      "4\n"
     ]
    }
   ],
   "source": [
    "# for loop: \n",
    "# you can't loopover integer.\n",
    "for i in range(0,5,2):\n",
    "    print(i)"
   ]
  },
  {
   "cell_type": "code",
   "execution_count": 18,
   "id": "c15ebf00-a42e-471a-893e-c223d2241800",
   "metadata": {},
   "outputs": [
    {
     "data": {
      "text/plain": [
       "[0, 2, 4]"
      ]
     },
     "execution_count": 18,
     "metadata": {},
     "output_type": "execute_result"
    }
   ],
   "source": [
    "list(range(0,5,2))"
   ]
  },
  {
   "cell_type": "code",
   "execution_count": 20,
   "id": "ad6410e6-b01c-4afa-992c-ec68a2cdb7a5",
   "metadata": {},
   "outputs": [
    {
     "name": "stdout",
     "output_type": "stream",
     "text": [
      "name\n",
      "city\n"
     ]
    }
   ],
   "source": [
    "x = {'name':'Neha', 'city':'Hyd'}\n",
    "for i in x.keys():\n",
    "    print(i)"
   ]
  },
  {
   "cell_type": "code",
   "execution_count": 24,
   "id": "3849b225-1fb9-4ece-8618-c6073d587482",
   "metadata": {},
   "outputs": [
    {
     "name": "stdout",
     "output_type": "stream",
     "text": [
      "* \n",
      "* * \n",
      "* * * \n",
      "* * * * \n",
      "* * * * * \n"
     ]
    }
   ],
   "source": [
    "for i in range(5):\n",
    "    for j in range(i+1):\n",
    "        print(\"*\", end =' ')\n",
    "    print()    \n",
    "        "
   ]
  },
  {
   "cell_type": "code",
   "execution_count": 29,
   "id": "67e1f224-9abc-47d4-813e-465db0251bd5",
   "metadata": {},
   "outputs": [
    {
     "name": "stdout",
     "output_type": "stream",
     "text": [
      "* * * * * \n",
      "* * * * \n",
      "* * * \n",
      "* * \n",
      "* \n"
     ]
    }
   ],
   "source": [
    "for i in range(5,0, -1):\n",
    "    for j in range(i,0, -1):\n",
    "        print(\"*\", end = \" \")\n",
    "    print()    \n",
    "    "
   ]
  },
  {
   "cell_type": "code",
   "execution_count": 33,
   "id": "9fd70eef-ef26-43bf-9441-32b23b822614",
   "metadata": {},
   "outputs": [
    {
     "name": "stdout",
     "output_type": "stream",
     "text": [
      "1 2 3 4 5 \n",
      "2 4 6 8 10 \n",
      "3 6 9 12 15 \n",
      "4 8 12 16 20 \n",
      "5 10 15 20 25 \n"
     ]
    }
   ],
   "source": [
    "# print tables:\n",
    "for i in range(1,6):\n",
    "    for j in range(1,6):\n",
    "        print( i*j, end =\" \")\n",
    "    print()    \n",
    "        \n"
   ]
  },
  {
   "cell_type": "code",
   "execution_count": 35,
   "id": "60cccb51-0dd6-48c2-958f-45c4615eed2f",
   "metadata": {},
   "outputs": [
    {
     "name": "stdout",
     "output_type": "stream",
     "text": [
      "1\n",
      "2\n",
      "3\n",
      "4\n",
      "5\n"
     ]
    }
   ],
   "source": [
    "# While: If number of iterations are not known.\n",
    "count = 1\n",
    "while count <= 5:\n",
    "    print(count)\n",
    "    count +=1"
   ]
  },
  {
   "cell_type": "code",
   "execution_count": 36,
   "id": "56bd3f7c-a37d-434d-8066-861e61c79a13",
   "metadata": {},
   "outputs": [
    {
     "name": "stdin",
     "output_type": "stream",
     "text": [
      "enter a word: cf\n"
     ]
    },
    {
     "name": "stdout",
     "output_type": "stream",
     "text": [
      "you entered cf\n"
     ]
    },
    {
     "name": "stdin",
     "output_type": "stream",
     "text": [
      "enter a word: fv\n"
     ]
    },
    {
     "name": "stdout",
     "output_type": "stream",
     "text": [
      "you entered fv\n"
     ]
    },
    {
     "name": "stdin",
     "output_type": "stream",
     "text": [
      "enter a word: why?\n"
     ]
    },
    {
     "name": "stdout",
     "output_type": "stream",
     "text": [
      "you entered why?\n"
     ]
    },
    {
     "name": "stdin",
     "output_type": "stream",
     "text": [
      "enter a word: \"\"\n"
     ]
    },
    {
     "name": "stdout",
     "output_type": "stream",
     "text": [
      "you entered \"\"\n"
     ]
    },
    {
     "name": "stdin",
     "output_type": "stream",
     "text": [
      "enter a word: quits\n"
     ]
    },
    {
     "name": "stdout",
     "output_type": "stream",
     "text": [
      "you entered quits\n"
     ]
    },
    {
     "name": "stdin",
     "output_type": "stream",
     "text": [
      "enter a word: quit\n"
     ]
    },
    {
     "name": "stdout",
     "output_type": "stream",
     "text": [
      "you entered quit\n"
     ]
    }
   ],
   "source": [
    "text =\"\"\n",
    "while text != 'quit':\n",
    "    text = input('enter a word:')\n",
    "    print(\"you entered\", text)"
   ]
  },
  {
   "cell_type": "code",
   "execution_count": 37,
   "id": "2bb2c4de-ac07-47ae-b7fd-0d5d05401b6c",
   "metadata": {},
   "outputs": [
    {
     "name": "stdout",
     "output_type": "stream",
     "text": [
      "A\n",
      "B\n"
     ]
    }
   ],
   "source": [
    "#\n",
    "x = 15\n",
    "\n",
    "if x > 10:\n",
    "\n",
    "   print(\"A\")\n",
    "\n",
    "if x < 20:\n",
    "\n",
    "   print(\"B\")\n",
    "\n",
    "else:\n",
    "\n",
    "   print(\"C\")"
   ]
  },
  {
   "cell_type": "code",
   "execution_count": 38,
   "id": "6759f3d0-9169-445f-b806-7c5f0b0d66dd",
   "metadata": {},
   "outputs": [
    {
     "name": "stdout",
     "output_type": "stream",
     "text": [
      "B\n"
     ]
    }
   ],
   "source": [
    "x = 5\n",
    "\n",
    "if x > 10:\n",
    "\n",
    "   print(\"A\")\n",
    "\n",
    "elif x > 3:\n",
    "\n",
    "   print(\"B\")\n",
    "\n",
    "elif x == 5:\n",
    "\n",
    "   print(\"C\")\n",
    "\n",
    "else:\n",
    "\n",
    "   print(\"D\")"
   ]
  },
  {
   "cell_type": "code",
   "execution_count": 39,
   "id": "23b60249-cec5-4b22-887c-c08abe550fb5",
   "metadata": {},
   "outputs": [
    {
     "name": "stdout",
     "output_type": "stream",
     "text": [
      "B\n"
     ]
    }
   ],
   "source": [
    "x = 10\n",
    "\n",
    "if x < 5:\n",
    "\n",
    "   print(\"A\")\n",
    "\n",
    "elif x > 5:\n",
    "\n",
    "   print(\"B\")\n",
    "\n",
    "else:\n",
    "\n",
    "   print(\"C\")"
   ]
  },
  {
   "cell_type": "code",
   "execution_count": 40,
   "id": "1b7d9308-88a0-4417-b957-8df9a54826bf",
   "metadata": {},
   "outputs": [
    {
     "name": "stdout",
     "output_type": "stream",
     "text": [
      "B\n"
     ]
    }
   ],
   "source": [
    "x = 10\n",
    "\n",
    "if x < 5:\n",
    "\n",
    "   print(\"A\")\n",
    "\n",
    "if x > 5:\n",
    "\n",
    "   print(\"B\")\n",
    "\n",
    "else:\n",
    "\n",
    "   print(\"C\")"
   ]
  },
  {
   "cell_type": "code",
   "execution_count": 41,
   "id": "115b7748-4b1a-45df-b1bd-e6f2d23f28a7",
   "metadata": {},
   "outputs": [
    {
     "name": "stdout",
     "output_type": "stream",
     "text": [
      "A\n",
      "B\n"
     ]
    }
   ],
   "source": [
    "x = 5\n",
    "\n",
    "if x > 3:\n",
    "\n",
    "   print(\"A\")\n",
    "\n",
    "if x == 5:\n",
    "\n",
    "   print(\"B\")\n",
    "\n",
    "else:\n",
    "\n",
    "   print(\"C\")"
   ]
  },
  {
   "cell_type": "code",
   "execution_count": 42,
   "id": "1ca07b6f-462c-42f7-a8b8-e6077a6122bc",
   "metadata": {},
   "outputs": [
    {
     "name": "stdout",
     "output_type": "stream",
     "text": [
      "B\n"
     ]
    }
   ],
   "source": [
    "x = 7\n",
    "\n",
    "if x > 10:\n",
    "\n",
    "   print(\"A\")\n",
    "\n",
    "elif x > 5:\n",
    "\n",
    "   print(\"B\")\n",
    "\n",
    "elif x == 7:\n",
    "\n",
    "   print(\"C\")\n",
    "\n",
    "else:\n",
    "\n",
    "   print(\"D\")"
   ]
  },
  {
   "cell_type": "code",
   "execution_count": 43,
   "id": "ba5db009-45d7-4f75-8fb0-f8bf2f23a185",
   "metadata": {},
   "outputs": [
    {
     "name": "stdout",
     "output_type": "stream",
     "text": [
      "B\n"
     ]
    }
   ],
   "source": [
    "x = 5\n",
    "\n",
    "if x > 10:\n",
    "\n",
    "   print(\"A\")\n",
    "\n",
    "elif x > 3:\n",
    "\n",
    "   print(\"B\")\n",
    "\n",
    "elif x == 5:\n",
    "\n",
    "   print(\"C\")\n",
    "\n",
    "elif x > 2:\n",
    "\n",
    "   print(\"D\")\n",
    "\n",
    "else:\n",
    "\n",
    "   print(\"E\")"
   ]
  },
  {
   "cell_type": "code",
   "execution_count": 44,
   "id": "573d7fde-1cd3-43eb-9091-86964fd19220",
   "metadata": {},
   "outputs": [
    {
     "name": "stdout",
     "output_type": "stream",
     "text": [
      "A\n"
     ]
    }
   ],
   "source": [
    "x = 5\n",
    "\n",
    "if x > 3:\n",
    "\n",
    "   print(\"A\")\n",
    "\n",
    "if x > 5:\n",
    "\n",
    "   print(\"B\")"
   ]
  },
  {
   "cell_type": "code",
   "execution_count": 45,
   "id": "e0079416-f460-4c71-86ce-cad08fffc4a5",
   "metadata": {},
   "outputs": [
    {
     "name": "stdout",
     "output_type": "stream",
     "text": [
      "A\n"
     ]
    }
   ],
   "source": [
    "x = 7\n",
    "\n",
    "if x > 5:\n",
    "\n",
    "   print(\"A\")\n",
    "\n",
    "if x > 7:\n",
    "\n",
    "   print(\"B\")"
   ]
  },
  {
   "cell_type": "code",
   "execution_count": 46,
   "id": "c0f1e2d4-a438-451f-94b2-014204b64195",
   "metadata": {},
   "outputs": [
    {
     "name": "stdout",
     "output_type": "stream",
     "text": [
      "B\n"
     ]
    }
   ],
   "source": [
    "x = 1\n",
    "\n",
    "if x > 1:\n",
    "\n",
    "   print(\"A\")\n",
    "\n",
    "if x > 0:\n",
    "\n",
    "   print(\"B\")"
   ]
  },
  {
   "cell_type": "code",
   "execution_count": 47,
   "id": "fd75981b-cc3e-4a83-8ba9-50c9a86eb0b5",
   "metadata": {},
   "outputs": [
    {
     "name": "stdout",
     "output_type": "stream",
     "text": [
      "A\n",
      "B\n"
     ]
    }
   ],
   "source": [
    "x = 3\n",
    "\n",
    "if x > 1:\n",
    "\n",
    "   print(\"A\")\n",
    "\n",
    "if x > 2:\n",
    "\n",
    "   print(\"B\")"
   ]
  },
  {
   "cell_type": "code",
   "execution_count": 50,
   "id": "058b0fd8-52b6-4d44-ad4c-e2ee91f4b293",
   "metadata": {},
   "outputs": [
    {
     "name": "stdout",
     "output_type": "stream",
     "text": [
      "B\n"
     ]
    }
   ],
   "source": [
    "x = 8\n",
    "\n",
    "if x > 10:\n",
    "\n",
    "   print(\"A\")\n",
    "\n",
    "else:\n",
    "\n",
    "    if x > 7:\n",
    "\n",
    "       print(\"B\")\n",
    "\n",
    "    else:\n",
    "\n",
    "       print(\"C\")"
   ]
  },
  {
   "cell_type": "code",
   "execution_count": 51,
   "id": "4e369452-7f04-4be1-b77c-9e364c10b659",
   "metadata": {},
   "outputs": [
    {
     "name": "stdout",
     "output_type": "stream",
     "text": [
      "B\n",
      "C\n"
     ]
    }
   ],
   "source": [
    "x = 5\n",
    "\n",
    "if x > 10:\n",
    "\n",
    "   print(\"A\")\n",
    "\n",
    "else:\n",
    "\n",
    "   print(\"B\")\n",
    "\n",
    "if x > 3:\n",
    "\n",
    "   print(\"C\")\n",
    "\n",
    "else:\n",
    "\n",
    "   print(\"D\")"
   ]
  },
  {
   "cell_type": "code",
   "execution_count": 54,
   "id": "44d8d6e4-ca51-4084-94f6-244d8aa2fd62",
   "metadata": {},
   "outputs": [],
   "source": [
    "x = 10\n",
    "\n",
    "if x < 5:\n",
    "\n",
    "   print(\"A\")\n",
    "\n",
    "elif x == 5:\n",
    "\n",
    "   print(\"B\")\n",
    "\n"
   ]
  },
  {
   "cell_type": "code",
   "execution_count": null,
   "id": "d019a7ce-ff39-4fcc-b30b-493f264b8803",
   "metadata": {},
   "outputs": [],
   "source": []
  }
 ],
 "metadata": {
  "kernelspec": {
   "display_name": "Python 3 (ipykernel)",
   "language": "python",
   "name": "python3"
  },
  "language_info": {
   "codemirror_mode": {
    "name": "ipython",
    "version": 3
   },
   "file_extension": ".py",
   "mimetype": "text/x-python",
   "name": "python",
   "nbconvert_exporter": "python",
   "pygments_lexer": "ipython3",
   "version": "3.10.8"
  }
 },
 "nbformat": 4,
 "nbformat_minor": 5
}
