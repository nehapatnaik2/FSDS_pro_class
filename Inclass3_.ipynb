{
 "cells": [
  {
   "cell_type": "code",
   "execution_count": 1,
   "id": "c8cc204b-4def-4208-a554-686bb179f555",
   "metadata": {},
   "outputs": [],
   "source": [
    "#Input Output functions:\n"
   ]
  },
  {
   "cell_type": "code",
   "execution_count": 2,
   "id": "0fb28061-0d43-4148-9e2f-58cd83caf759",
   "metadata": {},
   "outputs": [
    {
     "name": "stdin",
     "output_type": "stream",
     "text": [
      "enter your name: Neha\n"
     ]
    }
   ],
   "source": [
    "w = input(\"enter your name:\")\n"
   ]
  },
  {
   "cell_type": "code",
   "execution_count": 3,
   "id": "2069ecdd-becd-4ee8-8dd9-a7f6f268a8db",
   "metadata": {},
   "outputs": [
    {
     "data": {
      "text/plain": [
       "'Neha'"
      ]
     },
     "execution_count": 3,
     "metadata": {},
     "output_type": "execute_result"
    }
   ],
   "source": [
    "w"
   ]
  },
  {
   "cell_type": "code",
   "execution_count": 4,
   "id": "181e945b-1227-42e9-a012-3703ac8e443c",
   "metadata": {},
   "outputs": [
    {
     "name": "stdout",
     "output_type": "stream",
     "text": [
      "Neha\n"
     ]
    }
   ],
   "source": [
    "print(w)"
   ]
  },
  {
   "cell_type": "code",
   "execution_count": 5,
   "id": "ecdc4858-4c10-43a8-bf44-d77d5709985a",
   "metadata": {},
   "outputs": [
    {
     "name": "stdin",
     "output_type": "stream",
     "text": [
      "enter first number: 7\n"
     ]
    }
   ],
   "source": [
    "b = int(input(\"enter first number:\"))"
   ]
  },
  {
   "cell_type": "code",
   "execution_count": 6,
   "id": "2bd66a48-0150-4e06-9096-0358f98776e4",
   "metadata": {},
   "outputs": [
    {
     "name": "stdout",
     "output_type": "stream",
     "text": [
      "Neha , is my name\n"
     ]
    }
   ],
   "source": [
    "# f string format:\n",
    "print(f\"{w} , is my name\")"
   ]
  },
  {
   "cell_type": "code",
   "execution_count": 9,
   "id": "136fcc89-8a7d-4641-b306-bcdf911d1ef3",
   "metadata": {},
   "outputs": [
    {
     "name": "stdout",
     "output_type": "stream",
     "text": [
      "pw and skills\n"
     ]
    }
   ],
   "source": [
    "print(\"{0} and {1}\".format(\"pw\",\"skills\"))"
   ]
  },
  {
   "cell_type": "code",
   "execution_count": 10,
   "id": "655ba4c4-953e-4208-977a-04f20324d617",
   "metadata": {},
   "outputs": [
    {
     "name": "stdout",
     "output_type": "stream",
     "text": [
      "89000\n",
      "for\n",
      "my\n",
      "class\n"
     ]
    }
   ],
   "source": [
    "print(\"\"\"89000\n",
    "for\n",
    "my\n",
    "class\"\"\")"
   ]
  },
  {
   "cell_type": "code",
   "execution_count": 14,
   "id": "e75ca857-df86-458a-8f4c-d040b0b4f193",
   "metadata": {},
   "outputs": [
    {
     "name": "stdin",
     "output_type": "stream",
     "text": [
      "enter the string: do\n"
     ]
    },
    {
     "name": "stdout",
     "output_type": "stream",
     "text": [
      "!do!\n"
     ]
    }
   ],
   "source": [
    "s = input(\"enter the string:\")\n",
    "print(f\"!{s}!\")"
   ]
  },
  {
   "cell_type": "code",
   "execution_count": 16,
   "id": "2e206303-4aba-4b57-9846-be5cb0becf8b",
   "metadata": {},
   "outputs": [],
   "source": [
    "#Operators - + * % / = == != is in not in, > <"
   ]
  },
  {
   "cell_type": "code",
   "execution_count": 17,
   "id": "519770ad-bc12-4da8-8dbf-39be0a2f749d",
   "metadata": {},
   "outputs": [
    {
     "data": {
      "text/plain": [
       "True"
      ]
     },
     "execution_count": 17,
     "metadata": {},
     "output_type": "execute_result"
    }
   ],
   "source": [
    "a= 10\n",
    "b = 10\n",
    "a is b"
   ]
  },
  {
   "cell_type": "code",
   "execution_count": 18,
   "id": "fa3c79e3-030e-4c67-aee0-975b6762b75d",
   "metadata": {},
   "outputs": [
    {
     "data": {
      "text/plain": [
       "True"
      ]
     },
     "execution_count": 18,
     "metadata": {},
     "output_type": "execute_result"
    }
   ],
   "source": [
    "a == b # checks the value as well as type"
   ]
  },
  {
   "cell_type": "code",
   "execution_count": 19,
   "id": "ad3aad4f-c1e3-4a0b-bb0f-fa8070491a61",
   "metadata": {},
   "outputs": [],
   "source": [
    "#is operatorIf a and b, points to same object memory"
   ]
  },
  {
   "cell_type": "code",
   "execution_count": 20,
   "id": "c9fd8eb3-3eeb-433e-b27e-677de1c2503f",
   "metadata": {},
   "outputs": [
    {
     "data": {
      "text/plain": [
       "140419080602128"
      ]
     },
     "execution_count": 20,
     "metadata": {},
     "output_type": "execute_result"
    }
   ],
   "source": [
    "id(a)"
   ]
  },
  {
   "cell_type": "code",
   "execution_count": 21,
   "id": "31c82298-15b3-47c0-84d3-8fe3d2243bf6",
   "metadata": {},
   "outputs": [
    {
     "data": {
      "text/plain": [
       "140419080602128"
      ]
     },
     "execution_count": 21,
     "metadata": {},
     "output_type": "execute_result"
    }
   ],
   "source": [
    "id(b)"
   ]
  },
  {
   "cell_type": "code",
   "execution_count": 25,
   "id": "de144006-4332-4970-bd77-8b73daa90c01",
   "metadata": {},
   "outputs": [
    {
     "data": {
      "text/plain": [
       "False"
      ]
     },
     "execution_count": 25,
     "metadata": {},
     "output_type": "execute_result"
    }
   ],
   "source": [
    "a = [1,2,3]\n",
    "b = [1,2,3]\n",
    "a is b\n",
    "# checks if they have same memory address."
   ]
  },
  {
   "cell_type": "code",
   "execution_count": 27,
   "id": "72ec78ed-3fda-4645-9dbe-f2c0626e4be1",
   "metadata": {},
   "outputs": [
    {
     "name": "stdin",
     "output_type": "stream",
     "text": [
      " 10\n"
     ]
    },
    {
     "name": "stdout",
     "output_type": "stream",
     "text": [
      "5003154509899971\n"
     ]
    }
   ],
   "source": [
    "i = int(input())\n",
    "y = 3**35\n",
    "z = y/i\n",
    "print(int(z))\n"
   ]
  },
  {
   "cell_type": "code",
   "execution_count": 29,
   "id": "aa8e7587-83a8-4aa5-a398-2640ec941264",
   "metadata": {},
   "outputs": [
    {
     "data": {
      "text/plain": [
       "5003154509899970"
      ]
     },
     "execution_count": 29,
     "metadata": {},
     "output_type": "execute_result"
    }
   ],
   "source": [
    "z = y//i # // gives integer value.\n",
    "z"
   ]
  },
  {
   "cell_type": "code",
   "execution_count": 32,
   "id": "b78d4f14-3999-4e2b-82a8-152f64f233c9",
   "metadata": {},
   "outputs": [
    {
     "ename": "NameError",
     "evalue": "name 'math' is not defined",
     "output_type": "error",
     "traceback": [
      "\u001b[0;31m---------------------------------------------------------------------------\u001b[0m",
      "\u001b[0;31mNameError\u001b[0m                                 Traceback (most recent call last)",
      "Cell \u001b[0;32mIn[32], line 1\u001b[0m\n\u001b[0;32m----> 1\u001b[0m \u001b[43mmath\u001b[49m\u001b[38;5;241m.\u001b[39msqrt(z)\n",
      "\u001b[0;31mNameError\u001b[0m: name 'math' is not defined"
     ]
    }
   ],
   "source": [
    "math.sqrt(z)"
   ]
  },
  {
   "cell_type": "code",
   "execution_count": 33,
   "id": "ce69b215-cf2e-41cb-b28b-0aa3ca63b89b",
   "metadata": {},
   "outputs": [
    {
     "data": {
      "text/plain": [
       "'0b10100'"
      ]
     },
     "execution_count": 33,
     "metadata": {},
     "output_type": "execute_result"
    }
   ],
   "source": [
    "bin(20)"
   ]
  },
  {
   "cell_type": "code",
   "execution_count": 36,
   "id": "3e0dd689-122a-48f2-8611-2ef3c8712cec",
   "metadata": {},
   "outputs": [
    {
     "data": {
      "text/plain": [
       "20"
      ]
     },
     "execution_count": 36,
     "metadata": {},
     "output_type": "execute_result"
    }
   ],
   "source": [
    "int(0b10100)"
   ]
  },
  {
   "cell_type": "code",
   "execution_count": 34,
   "id": "95e76dcb-c7db-4b85-ae7b-39d4b0b28f47",
   "metadata": {},
   "outputs": [],
   "source": [
    "# LOgical operators: or, and, not"
   ]
  },
  {
   "cell_type": "code",
   "execution_count": 35,
   "id": "c69d5b94-abc7-4f87-9ce6-326f410c617a",
   "metadata": {},
   "outputs": [
    {
     "data": {
      "text/plain": [
       "-11"
      ]
     },
     "execution_count": 35,
     "metadata": {},
     "output_type": "execute_result"
    }
   ],
   "source": [
    "# Bitwise operators: &, |, ~, >>, <<\n",
    "a = 10\n",
    "~a"
   ]
  },
  {
   "cell_type": "code",
   "execution_count": 38,
   "id": "ebd060c8-dd13-4b50-888c-618f714b5cf1",
   "metadata": {},
   "outputs": [
    {
     "data": {
      "text/plain": [
       "11"
      ]
     },
     "execution_count": 38,
     "metadata": {},
     "output_type": "execute_result"
    }
   ],
   "source": [
    "int(0b1011)"
   ]
  },
  {
   "cell_type": "code",
   "execution_count": 41,
   "id": "dddb106f-3700-4c3c-afca-e32fa8f9c533",
   "metadata": {},
   "outputs": [
    {
     "data": {
      "text/plain": [
       "2"
      ]
     },
     "execution_count": 41,
     "metadata": {},
     "output_type": "execute_result"
    }
   ],
   "source": [
    "a >> 2"
   ]
  },
  {
   "cell_type": "code",
   "execution_count": 42,
   "id": "c852ac11-ea1b-43f5-8242-d8a236a78ce9",
   "metadata": {},
   "outputs": [
    {
     "data": {
      "text/plain": [
       "20"
      ]
     },
     "execution_count": 42,
     "metadata": {},
     "output_type": "execute_result"
    }
   ],
   "source": [
    "a<<1"
   ]
  },
  {
   "cell_type": "code",
   "execution_count": null,
   "id": "ad65ea76-9aa6-414a-8937-c894e9bee623",
   "metadata": {},
   "outputs": [],
   "source": []
  }
 ],
 "metadata": {
  "kernelspec": {
   "display_name": "Python 3 (ipykernel)",
   "language": "python",
   "name": "python3"
  },
  "language_info": {
   "codemirror_mode": {
    "name": "ipython",
    "version": 3
   },
   "file_extension": ".py",
   "mimetype": "text/x-python",
   "name": "python",
   "nbconvert_exporter": "python",
   "pygments_lexer": "ipython3",
   "version": "3.10.8"
  }
 },
 "nbformat": 4,
 "nbformat_minor": 5
}
