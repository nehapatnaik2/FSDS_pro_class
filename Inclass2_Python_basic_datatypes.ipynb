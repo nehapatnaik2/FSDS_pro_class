{
 "cells": [
  {
   "cell_type": "markdown",
   "id": "6275e422-fe3b-41f5-99a7-a1b5eb5195fe",
   "metadata": {},
   "source": [
    "Python data structures types:\n",
    "list, tuple, set, dictionary and some of their inbuilt functions\n",
    "    "
   ]
  },
  {
   "cell_type": "code",
   "execution_count": 1,
   "id": "b022d455-ff57-4e74-a323-c6fe3d08a283",
   "metadata": {},
   "outputs": [],
   "source": [
    "l = []"
   ]
  },
  {
   "cell_type": "code",
   "execution_count": 2,
   "id": "39dda776-a130-4aef-ac03-db36f734030d",
   "metadata": {},
   "outputs": [],
   "source": [
    "#list can take heterogenous data\n",
    "#indexing and slicing is same as string\n",
    "# it is a datastructure to hold collection of data\n",
    "# l1 + l2 works as concatenation.list to list\n",
    "l =[ 'a', 1, 2, True]"
   ]
  },
  {
   "cell_type": "code",
   "execution_count": 3,
   "id": "b22265e6-64f3-4a8f-8b76-8a484bef6040",
   "metadata": {},
   "outputs": [
    {
     "data": {
      "text/plain": [
       "['a', 1, 2, True, 'a', 1, 2, True]"
      ]
     },
     "execution_count": 3,
     "metadata": {},
     "output_type": "execute_result"
    }
   ],
   "source": [
    "l*2"
   ]
  },
  {
   "cell_type": "code",
   "execution_count": 4,
   "id": "9684f312-f166-4ec2-90eb-f465e29a1b98",
   "metadata": {},
   "outputs": [],
   "source": [
    "l[3] = 0"
   ]
  },
  {
   "cell_type": "code",
   "execution_count": 5,
   "id": "fda02ec9-13af-4db0-9c64-2b9ba070cc86",
   "metadata": {},
   "outputs": [
    {
     "data": {
      "text/plain": [
       "['a', 1, 2, 0]"
      ]
     },
     "execution_count": 5,
     "metadata": {},
     "output_type": "execute_result"
    }
   ],
   "source": [
    "l"
   ]
  },
  {
   "cell_type": "code",
   "execution_count": 7,
   "id": "1aa4125b-5257-46c6-9fcb-810e52675ad4",
   "metadata": {},
   "outputs": [],
   "source": [
    "#Tuples are like list but immutable\n",
    "t = (1,2,3,'red',99)"
   ]
  },
  {
   "cell_type": "code",
   "execution_count": 8,
   "id": "b0bd07f5-2dc0-4c52-955f-0815425ab1aa",
   "metadata": {},
   "outputs": [
    {
     "data": {
      "text/plain": [
       "(99, 'red', 3, 2, 1)"
      ]
     },
     "execution_count": 8,
     "metadata": {},
     "output_type": "execute_result"
    }
   ],
   "source": [
    "t[::-1]"
   ]
  },
  {
   "cell_type": "code",
   "execution_count": 9,
   "id": "a47a9e0a-4b52-4b0c-af1f-0648c2544bfe",
   "metadata": {},
   "outputs": [
    {
     "data": {
      "text/plain": [
       "[1, 2, 3, 'red', 99]"
      ]
     },
     "execution_count": 9,
     "metadata": {},
     "output_type": "execute_result"
    }
   ],
   "source": [
    "list(t)"
   ]
  },
  {
   "cell_type": "code",
   "execution_count": 10,
   "id": "8d1fb189-09f7-4dca-9dd8-4279a5989b4a",
   "metadata": {},
   "outputs": [
    {
     "data": {
      "text/plain": [
       "5"
      ]
     },
     "execution_count": 10,
     "metadata": {},
     "output_type": "execute_result"
    }
   ],
   "source": [
    "len(t)"
   ]
  },
  {
   "cell_type": "code",
   "execution_count": 14,
   "id": "56a06854-5cfc-4c2f-bb21-02ebd3edac32",
   "metadata": {},
   "outputs": [],
   "source": [
    "#set:\n",
    "# removes duplicate\n",
    "s = {1,2,3,4,5,5}"
   ]
  },
  {
   "cell_type": "code",
   "execution_count": 15,
   "id": "f30bd3d3-9a13-497d-a137-105436a794e1",
   "metadata": {},
   "outputs": [
    {
     "data": {
      "text/plain": [
       "set"
      ]
     },
     "execution_count": 15,
     "metadata": {},
     "output_type": "execute_result"
    }
   ],
   "source": [
    "type(s)"
   ]
  },
  {
   "cell_type": "code",
   "execution_count": 17,
   "id": "201a2073-cd7e-4377-9743-311aab98714e",
   "metadata": {},
   "outputs": [
    {
     "data": {
      "text/plain": [
       "{1, 2, 3, 4, 5}"
      ]
     },
     "execution_count": 17,
     "metadata": {},
     "output_type": "execute_result"
    }
   ],
   "source": [
    "s"
   ]
  },
  {
   "cell_type": "code",
   "execution_count": 16,
   "id": "00701842-d181-4b39-a5a9-81b9c0c032d1",
   "metadata": {},
   "outputs": [
    {
     "data": {
      "text/plain": [
       "dict"
      ]
     },
     "execution_count": 16,
     "metadata": {},
     "output_type": "execute_result"
    }
   ],
   "source": [
    "s2 ={}\n",
    "type(s2)"
   ]
  },
  {
   "cell_type": "code",
   "execution_count": 18,
   "id": "28174ae5-9f26-49ed-befb-4fdcd8fb4f63",
   "metadata": {},
   "outputs": [],
   "source": [
    "# A nested list cannot be converted in to set.\n",
    "l1 = [1,2,3,3,3,3,4,5,[2,2]]"
   ]
  },
  {
   "cell_type": "code",
   "execution_count": 19,
   "id": "74859bd2-fea0-42d0-a4f4-458a4ac6e88d",
   "metadata": {},
   "outputs": [
    {
     "ename": "TypeError",
     "evalue": "unhashable type: 'list'",
     "output_type": "error",
     "traceback": [
      "\u001b[0;31m---------------------------------------------------------------------------\u001b[0m",
      "\u001b[0;31mTypeError\u001b[0m                                 Traceback (most recent call last)",
      "Cell \u001b[0;32mIn[19], line 1\u001b[0m\n\u001b[0;32m----> 1\u001b[0m \u001b[38;5;28;43mset\u001b[39;49m\u001b[43m(\u001b[49m\u001b[43ml1\u001b[49m\u001b[43m)\u001b[49m\n",
      "\u001b[0;31mTypeError\u001b[0m: unhashable type: 'list'"
     ]
    }
   ],
   "source": [
    "set(l1)"
   ]
  },
  {
   "cell_type": "code",
   "execution_count": 20,
   "id": "abb60a13-2445-461d-91c2-31ef1c55c446",
   "metadata": {},
   "outputs": [
    {
     "data": {
      "text/plain": [
       "1"
      ]
     },
     "execution_count": 20,
     "metadata": {},
     "output_type": "execute_result"
    }
   ],
   "source": [
    "ty= (1,2,3,4) #indexing works on tuple\n",
    "ty[0]\n",
    "ty."
   ]
  },
  {
   "cell_type": "code",
   "execution_count": 21,
   "id": "3b24d958-fec3-4c16-8f40-996fac76391f",
   "metadata": {},
   "outputs": [
    {
     "ename": "TypeError",
     "evalue": "'set' object is not subscriptable",
     "output_type": "error",
     "traceback": [
      "\u001b[0;31m---------------------------------------------------------------------------\u001b[0m",
      "\u001b[0;31mTypeError\u001b[0m                                 Traceback (most recent call last)",
      "Cell \u001b[0;32mIn[21], line 2\u001b[0m\n\u001b[1;32m      1\u001b[0m st\u001b[38;5;241m=\u001b[39m\u001b[38;5;28mset\u001b[39m(ty)\n\u001b[0;32m----> 2\u001b[0m \u001b[43mst\u001b[49m\u001b[43m[\u001b[49m\u001b[38;5;241;43m0\u001b[39;49m\u001b[43m]\u001b[49m\n",
      "\u001b[0;31mTypeError\u001b[0m: 'set' object is not subscriptable"
     ]
    }
   ],
   "source": [
    "st=set(ty) # indexing doesnot work on sets\n",
    "st[0]"
   ]
  },
  {
   "cell_type": "code",
   "execution_count": 1,
   "id": "1016425c-0f0d-4261-8bb2-466cae5e2997",
   "metadata": {},
   "outputs": [],
   "source": [
    "# Dictionaries:\n",
    "d1 ={'name': 'Neha'}\n",
    "d1['name'] = 'neha'"
   ]
  },
  {
   "cell_type": "code",
   "execution_count": 2,
   "id": "17a2cbe5-b3f3-4eef-bce0-6cbf757b016b",
   "metadata": {},
   "outputs": [
    {
     "data": {
      "text/plain": [
       "{'name': 'neha'}"
      ]
     },
     "execution_count": 2,
     "metadata": {},
     "output_type": "execute_result"
    }
   ],
   "source": [
    "d1 # overrides"
   ]
  },
  {
   "cell_type": "code",
   "execution_count": 10,
   "id": "79d2672d-998e-4d72-a8f1-da75822e9b77",
   "metadata": {},
   "outputs": [
    {
     "data": {
      "text/plain": [
       "1"
      ]
     },
     "execution_count": 10,
     "metadata": {},
     "output_type": "execute_result"
    }
   ],
   "source": [
    "#Inbuilt function:\n",
    "s= \"neha\"\n",
    "s.count('e') #s.press tab to see functions\n",
    "# inside brackets press shift+tab to see definition of function."
   ]
  },
  {
   "cell_type": "code",
   "execution_count": 11,
   "id": "66631d6d-b69f-4db4-907d-ca14da89cebb",
   "metadata": {},
   "outputs": [
    {
     "data": {
      "text/plain": [
       "-1"
      ]
     },
     "execution_count": 11,
     "metadata": {},
     "output_type": "execute_result"
    }
   ],
   "source": [
    "s.find('z') # gives you the index of  first occurance."
   ]
  },
  {
   "cell_type": "code",
   "execution_count": 12,
   "id": "25b792f9-3054-4567-8e90-23ce7e057dc0",
   "metadata": {},
   "outputs": [
    {
     "data": {
      "text/plain": [
       "1"
      ]
     },
     "execution_count": 12,
     "metadata": {},
     "output_type": "execute_result"
    }
   ],
   "source": [
    "s.index('e')"
   ]
  },
  {
   "cell_type": "code",
   "execution_count": 13,
   "id": "b9be2989-3411-4d56-b866-1fbdf4dd1c07",
   "metadata": {},
   "outputs": [
    {
     "ename": "ValueError",
     "evalue": "substring not found",
     "output_type": "error",
     "traceback": [
      "\u001b[0;31m---------------------------------------------------------------------------\u001b[0m",
      "\u001b[0;31mValueError\u001b[0m                                Traceback (most recent call last)",
      "Cell \u001b[0;32mIn[13], line 1\u001b[0m\n\u001b[0;32m----> 1\u001b[0m \u001b[43ms\u001b[49m\u001b[38;5;241;43m.\u001b[39;49m\u001b[43mindex\u001b[49m\u001b[43m(\u001b[49m\u001b[38;5;124;43m'\u001b[39;49m\u001b[38;5;124;43mz\u001b[39;49m\u001b[38;5;124;43m'\u001b[39;49m\u001b[43m)\u001b[49m \u001b[38;5;66;03m# index() returns error\u001b[39;00m\n",
      "\u001b[0;31mValueError\u001b[0m: substring not found"
     ]
    }
   ],
   "source": [
    "s.index('z') # index() returns error"
   ]
  },
  {
   "cell_type": "code",
   "execution_count": 14,
   "id": "fe59f8d2-c901-47fa-a6d0-e78936c54383",
   "metadata": {},
   "outputs": [
    {
     "data": {
      "text/plain": [
       "['neha']"
      ]
     },
     "execution_count": 14,
     "metadata": {},
     "output_type": "execute_result"
    }
   ],
   "source": [
    "s.split() # only splits at spaces."
   ]
  },
  {
   "cell_type": "code",
   "execution_count": 15,
   "id": "edc6ffdb-9f6e-45e2-947b-dcf2d862a85d",
   "metadata": {},
   "outputs": [
    {
     "data": {
      "text/plain": [
       "['neh', '']"
      ]
     },
     "execution_count": 15,
     "metadata": {},
     "output_type": "execute_result"
    }
   ],
   "source": [
    "s.split('a') # splits based on separator!!"
   ]
  },
  {
   "cell_type": "code",
   "execution_count": 17,
   "id": "e7298637-717e-4ab2-a239-a3d2cffff617",
   "metadata": {},
   "outputs": [
    {
     "data": {
      "text/plain": [
       "'neha'"
      ]
     },
     "execution_count": 17,
     "metadata": {},
     "output_type": "execute_result"
    }
   ],
   "source": [
    "s.replace('a', 'b') # how are we able to change the string? strings can be replaced with replace() function.\n",
    "s.replace(\" \", \"\")\n",
    "s.rstrip()\n",
    "s.lstrip()\n"
   ]
  },
  {
   "cell_type": "code",
   "execution_count": 18,
   "id": "4801bb8c-ccfb-4f50-8a38-bfe1924909ea",
   "metadata": {},
   "outputs": [
    {
     "data": {
      "text/plain": [
       "'abbn'"
      ]
     },
     "execution_count": 18,
     "metadata": {},
     "output_type": "execute_result"
    }
   ],
   "source": [
    "w= \"a bbn\"\n",
    "w.replace(\" \",\"\")"
   ]
  },
  {
   "cell_type": "markdown",
   "id": "b30b5804-462e-4ca4-b324-da3e5fc4403e",
   "metadata": {},
   "source": [
    "List Functions:"
   ]
  },
  {
   "cell_type": "code",
   "execution_count": 3,
   "id": "e4d0fd38-3a75-467e-bc09-f185e988b46f",
   "metadata": {},
   "outputs": [],
   "source": [
    "#1) Append- appends item to th end\n",
    "l1 =[2,3,4,56]\n",
    "l1.append('neha')"
   ]
  },
  {
   "cell_type": "code",
   "execution_count": 2,
   "id": "4f319b2e-befc-4c5f-95fc-5f40becf7c58",
   "metadata": {},
   "outputs": [
    {
     "ename": "NameError",
     "evalue": "name 'l1' is not defined",
     "output_type": "error",
     "traceback": [
      "\u001b[0;31m---------------------------------------------------------------------------\u001b[0m",
      "\u001b[0;31mNameError\u001b[0m                                 Traceback (most recent call last)",
      "Cell \u001b[0;32mIn[2], line 1\u001b[0m\n\u001b[0;32m----> 1\u001b[0m \u001b[43ml1\u001b[49m\n",
      "\u001b[0;31mNameError\u001b[0m: name 'l1' is not defined"
     ]
    }
   ],
   "source": [
    "l1"
   ]
  },
  {
   "cell_type": "code",
   "execution_count": 21,
   "id": "7500feaf-0eb5-4445-ab50-367e3874b268",
   "metadata": {},
   "outputs": [],
   "source": [
    "#2) Insert- insert an item at an index, inbetween\n",
    "l1.insert(2, 'puppy')"
   ]
  },
  {
   "cell_type": "code",
   "execution_count": 22,
   "id": "e93e2044-7d20-4d04-9c6d-0e701cf18993",
   "metadata": {},
   "outputs": [
    {
     "data": {
      "text/plain": [
       "[2, 3, 'puppy', 4, 56, 'neha']"
      ]
     },
     "execution_count": 22,
     "metadata": {},
     "output_type": "execute_result"
    }
   ],
   "source": [
    "l1"
   ]
  },
  {
   "cell_type": "code",
   "execution_count": 23,
   "id": "193cfe54-6962-4e66-8820-af4e5a59b561",
   "metadata": {},
   "outputs": [
    {
     "data": {
      "text/plain": [
       "[2, 3, 'puppy', 4, 56, 'neha', 'b', 'a', 'l', 'l']"
      ]
     },
     "execution_count": 23,
     "metadata": {},
     "output_type": "execute_result"
    }
   ],
   "source": [
    "#3) extend function - splits internally and then appending it.\n",
    "l1.extend('ball')\n",
    "l1"
   ]
  },
  {
   "cell_type": "code",
   "execution_count": null,
   "id": "7ce607f9-4723-4241-9c8c-8733c5ec9b27",
   "metadata": {},
   "outputs": [],
   "source": [
    "#4) pop - it is opposite to append, delets data from last by default.\n",
    "l1.pop(0)\n",
    "\n"
   ]
  },
  {
   "cell_type": "code",
   "execution_count": null,
   "id": "8e27ee62-861f-4953-a92e-798bfb13df1e",
   "metadata": {},
   "outputs": [],
   "source": [
    "l1.remove"
   ]
  },
  {
   "cell_type": "code",
   "execution_count": 26,
   "id": "2967641c-c1ec-4fd8-bfb0-1399ab909bf2",
   "metadata": {},
   "outputs": [],
   "source": [
    "#5) del - delets the entire list\n",
    "#6) remove - removes 1st occurance of an item\n",
    "l1.remove('l')"
   ]
  },
  {
   "cell_type": "code",
   "execution_count": 27,
   "id": "01c62a2c-0a56-4180-a95b-e2396a9b7ccb",
   "metadata": {},
   "outputs": [
    {
     "data": {
      "text/plain": [
       "[2, 3, 'puppy', 4, 56, 'neha', 'b', 'a']"
      ]
     },
     "execution_count": 27,
     "metadata": {},
     "output_type": "execute_result"
    }
   ],
   "source": [
    "l1"
   ]
  },
  {
   "cell_type": "code",
   "execution_count": 28,
   "id": "2b1a2cdb-8c56-444d-861c-bed701c5c7f0",
   "metadata": {},
   "outputs": [],
   "source": [
    "# removes all elements\n",
    "l1.clear()"
   ]
  },
  {
   "cell_type": "code",
   "execution_count": 30,
   "id": "ff0f5502-582c-4ac6-ad10-6645589e236d",
   "metadata": {},
   "outputs": [],
   "source": [
    "l1 = [2, 3, 'puppy', 4, 56, 'neha', 'b', 'a', 'l', 'l']"
   ]
  },
  {
   "cell_type": "code",
   "execution_count": 31,
   "id": "fde8718d-cd8e-4aba-8a26-dba1f0a5791e",
   "metadata": {},
   "outputs": [],
   "source": [
    "l1.reverse()"
   ]
  },
  {
   "cell_type": "code",
   "execution_count": 32,
   "id": "c7e68eaa-ca07-4d13-8b15-980b519efeca",
   "metadata": {},
   "outputs": [
    {
     "data": {
      "text/plain": [
       "['l', 'l', 'a', 'b', 'neha', 56, 4, 'puppy', 3, 2]"
      ]
     },
     "execution_count": 32,
     "metadata": {},
     "output_type": "execute_result"
    }
   ],
   "source": [
    "l1"
   ]
  },
  {
   "cell_type": "code",
   "execution_count": 33,
   "id": "40df4b16-2e5e-49bc-b969-8f25ec6c0ecd",
   "metadata": {
    "collapsed": true,
    "jupyter": {
     "outputs_hidden": true
    },
    "tags": []
   },
   "outputs": [
    {
     "ename": "TypeError",
     "evalue": "'<' not supported between instances of 'int' and 'str'",
     "output_type": "error",
     "traceback": [
      "\u001b[0;31m---------------------------------------------------------------------------\u001b[0m",
      "\u001b[0;31mTypeError\u001b[0m                                 Traceback (most recent call last)",
      "Cell \u001b[0;32mIn[33], line 1\u001b[0m\n\u001b[0;32m----> 1\u001b[0m \u001b[43ml1\u001b[49m\u001b[38;5;241;43m.\u001b[39;49m\u001b[43msort\u001b[49m\u001b[43m(\u001b[49m\u001b[43m)\u001b[49m\n",
      "\u001b[0;31mTypeError\u001b[0m: '<' not supported between instances of 'int' and 'str'"
     ]
    }
   ],
   "source": [
    "l1.sort( reverse = True) # sorts homogenous data."
   ]
  },
  {
   "cell_type": "code",
   "execution_count": 34,
   "id": "7d67311f-d4a2-44d9-8e6a-b55ed5946030",
   "metadata": {
    "tags": []
   },
   "outputs": [],
   "source": [
    "#copy\n",
    "l0 = [1,2,3,4]\n"
   ]
  },
  {
   "cell_type": "code",
   "execution_count": 35,
   "id": "d378f765-9320-48b4-8629-f84f19c2aba7",
   "metadata": {},
   "outputs": [],
   "source": [
    "l1 = l0"
   ]
  },
  {
   "cell_type": "code",
   "execution_count": 36,
   "id": "b0fe5587-09f9-4db4-af1d-b298f47e5597",
   "metadata": {},
   "outputs": [],
   "source": [
    "l0[2] = 200"
   ]
  },
  {
   "cell_type": "code",
   "execution_count": 37,
   "id": "08acdc1a-f047-4fa1-b80c-fa1fe20a7a35",
   "metadata": {},
   "outputs": [
    {
     "data": {
      "text/plain": [
       "[1, 2, 200, 4]"
      ]
     },
     "execution_count": 37,
     "metadata": {},
     "output_type": "execute_result"
    }
   ],
   "source": [
    "l0"
   ]
  },
  {
   "cell_type": "code",
   "execution_count": 38,
   "id": "aa6cd4fa-dcac-49a5-9738-10f4cfbc5ca7",
   "metadata": {},
   "outputs": [
    {
     "data": {
      "text/plain": [
       "[1, 2, 200, 4]"
      ]
     },
     "execution_count": 38,
     "metadata": {},
     "output_type": "execute_result"
    }
   ],
   "source": [
    "l1"
   ]
  },
  {
   "cell_type": "markdown",
   "id": "e995261e-979a-4272-9b1d-0a668bbf79df",
   "metadata": {},
   "source": [
    "# we see that l1 and l0 both change, because we have not given separate space in the backend . l0 and l1 are reffering to same data."
   ]
  },
  {
   "cell_type": "code",
   "execution_count": 40,
   "id": "8933c7d5-e5a9-4e4d-a14d-c65e7081c856",
   "metadata": {},
   "outputs": [],
   "source": [
    "l2= l0.copy() # This is called deep copy"
   ]
  },
  {
   "cell_type": "code",
   "execution_count": 41,
   "id": "37c7bfac-2b0b-41cf-b263-aebe1569db82",
   "metadata": {},
   "outputs": [
    {
     "data": {
      "text/plain": [
       "[1, 2, 200, 4]"
      ]
     },
     "execution_count": 41,
     "metadata": {},
     "output_type": "execute_result"
    }
   ],
   "source": [
    "l2"
   ]
  },
  {
   "cell_type": "code",
   "execution_count": 42,
   "id": "eeacda9d-3ef1-47dc-acfe-8ff4de453664",
   "metadata": {},
   "outputs": [],
   "source": [
    "l0[1] = 400"
   ]
  },
  {
   "cell_type": "code",
   "execution_count": 45,
   "id": "246f18ee-14fb-4c7c-8e3b-c95fc3bd30bc",
   "metadata": {},
   "outputs": [
    {
     "data": {
      "text/plain": [
       "[1, 2, 200, 4]"
      ]
     },
     "execution_count": 45,
     "metadata": {},
     "output_type": "execute_result"
    }
   ],
   "source": [
    "l2 # same changes are not reflected in l2, a new space is created in the backend."
   ]
  },
  {
   "cell_type": "code",
   "execution_count": 46,
   "id": "3a8d86d4-6cd9-4d03-8210-810690f7b3a4",
   "metadata": {},
   "outputs": [
    {
     "data": {
      "text/plain": [
       "[1, 400, 200, 4]"
      ]
     },
     "execution_count": 46,
     "metadata": {},
     "output_type": "execute_result"
    }
   ],
   "source": [
    "l1 # yes same things are reflected in l1\n",
    "l1."
   ]
  },
  {
   "cell_type": "markdown",
   "id": "abfc88c7-676f-4e15-b63f-fe889c207073",
   "metadata": {},
   "source": [
    "Tuple functions"
   ]
  },
  {
   "cell_type": "code",
   "execution_count": 47,
   "id": "4d41d0c6-58d3-4a67-9cde-9c6ae9e03c06",
   "metadata": {},
   "outputs": [],
   "source": [
    "#index and count are just two functions."
   ]
  },
  {
   "cell_type": "markdown",
   "id": "4c21aea4-1740-4dee-a1e8-c68d74e008d5",
   "metadata": {},
   "source": [
    "set functions"
   ]
  },
  {
   "cell_type": "code",
   "execution_count": 52,
   "id": "f9f10f08-663b-4550-bf14-5bb5ea81dd26",
   "metadata": {},
   "outputs": [],
   "source": [
    "s = {1,2,33,33}"
   ]
  },
  {
   "cell_type": "code",
   "execution_count": 53,
   "id": "f6b54753-0595-41e1-b321-67b1fbd0dc47",
   "metadata": {},
   "outputs": [],
   "source": [
    "s.add(5)\n",
    "s.discard(2)"
   ]
  },
  {
   "cell_type": "code",
   "execution_count": 55,
   "id": "08c10d76-2c59-469d-96fa-6d271bceda4d",
   "metadata": {},
   "outputs": [
    {
     "data": {
      "text/plain": [
       "{1, 5, 33}"
      ]
     },
     "execution_count": 55,
     "metadata": {},
     "output_type": "execute_result"
    }
   ],
   "source": [
    "s"
   ]
  },
  {
   "cell_type": "code",
   "execution_count": null,
   "id": "7bd67e71-f107-446e-ad1b-5370f5cfa71c",
   "metadata": {},
   "outputs": [],
   "source": [
    "s."
   ]
  },
  {
   "cell_type": "markdown",
   "id": "4290ffc5-dfdd-4907-8a60-c8ae44adeb5b",
   "metadata": {},
   "source": [
    "Dictionary functions:"
   ]
  },
  {
   "cell_type": "code",
   "execution_count": null,
   "id": "beb2ce9c-e25d-4456-8c1c-192361ded96e",
   "metadata": {},
   "outputs": [],
   "source": [
    "d1 ={}\n",
    "d1.items() # returns key value pair as tuple\n",
    "d1.keys()\n",
    "d1.values()\n",
    "d1.get('key') # returns value for that key\n",
    "d1.pop('key')\n",
    "d1.\n"
   ]
  },
  {
   "cell_type": "code",
   "execution_count": 51,
   "id": "ebd2a870-736f-4bc3-8c77-6a4ee2aebb38",
   "metadata": {},
   "outputs": [
    {
     "ename": "SyntaxError",
     "evalue": "invalid syntax (1072185665.py, line 1)",
     "output_type": "error",
     "traceback": [
      "\u001b[0;36m  Cell \u001b[0;32mIn[51], line 1\u001b[0;36m\u001b[0m\n\u001b[0;31m    d = set{1,2,3}\u001b[0m\n\u001b[0m           ^\u001b[0m\n\u001b[0;31mSyntaxError\u001b[0m\u001b[0;31m:\u001b[0m invalid syntax\n"
     ]
    }
   ],
   "source": [
    "d = set{1,2,3}"
   ]
  },
  {
   "cell_type": "code",
   "execution_count": 56,
   "id": "436aad6c-b45f-4c5d-8579-32c2bfa7db26",
   "metadata": {},
   "outputs": [
    {
     "ename": "TypeError",
     "evalue": "set expected at most 1 argument, got 3",
     "output_type": "error",
     "traceback": [
      "\u001b[0;31m---------------------------------------------------------------------------\u001b[0m",
      "\u001b[0;31mTypeError\u001b[0m                                 Traceback (most recent call last)",
      "Cell \u001b[0;32mIn[56], line 1\u001b[0m\n\u001b[0;32m----> 1\u001b[0m d \u001b[38;5;241m=\u001b[39m \u001b[38;5;28;43mset\u001b[39;49m\u001b[43m(\u001b[49m\u001b[38;5;241;43m1\u001b[39;49m\u001b[43m,\u001b[49m\u001b[38;5;241;43m2\u001b[39;49m\u001b[43m,\u001b[49m\u001b[38;5;241;43m3\u001b[39;49m\u001b[43m)\u001b[49m\n",
      "\u001b[0;31mTypeError\u001b[0m: set expected at most 1 argument, got 3"
     ]
    }
   ],
   "source": [
    "d = set(1,2,3)"
   ]
  },
  {
   "cell_type": "code",
   "execution_count": 57,
   "id": "3e0699d4-af0e-463e-a996-eb770c30db20",
   "metadata": {},
   "outputs": [],
   "source": [
    "d = set[1,2,3]"
   ]
  },
  {
   "cell_type": "code",
   "execution_count": 58,
   "id": "bf66e26a-0b23-4861-88fd-e99d3685394e",
   "metadata": {},
   "outputs": [
    {
     "data": {
      "text/plain": [
       "types.GenericAlias"
      ]
     },
     "execution_count": 58,
     "metadata": {},
     "output_type": "execute_result"
    }
   ],
   "source": [
    "type(d)"
   ]
  },
  {
   "cell_type": "code",
   "execution_count": 63,
   "id": "d6d3d8fd-b1f0-4f53-81eb-623db6c31c97",
   "metadata": {},
   "outputs": [],
   "source": [
    "#valid ways to create list\n",
    "o = list()\n",
    "o = []\n",
    "o = [1,2,3]\n"
   ]
  },
  {
   "cell_type": "code",
   "execution_count": null,
   "id": "67560549-41f6-419b-aa48-61471f597714",
   "metadata": {},
   "outputs": [],
   "source": [
    "#valid ways of creating set\n",
    "se = set()\n",
    "se = {1,2,3}\n",
    "b = set([1,2,3])"
   ]
  },
  {
   "cell_type": "code",
   "execution_count": 71,
   "id": "b5bdcffe-cd2b-4733-ba0e-7fcdefaa942e",
   "metadata": {},
   "outputs": [],
   "source": [
    "#valid ways of creating tuple\n",
    "t = tuple()\n",
    "t = ()\n",
    "t = (1,2,3)"
   ]
  },
  {
   "cell_type": "code",
   "execution_count": 3,
   "id": "3280ef92-24d8-40f2-8c7b-5f97fabc0c54",
   "metadata": {},
   "outputs": [
    {
     "ename": "TypeError",
     "evalue": "'int' object is not iterable",
     "output_type": "error",
     "traceback": [
      "\u001b[0;31m---------------------------------------------------------------------------\u001b[0m",
      "\u001b[0;31mTypeError\u001b[0m                                 Traceback (most recent call last)",
      "Cell \u001b[0;32mIn[3], line 1\u001b[0m\n\u001b[0;32m----> 1\u001b[0m c \u001b[38;5;241m=\u001b[39m \u001b[38;5;28;43mtuple\u001b[39;49m\u001b[43m(\u001b[49m\u001b[38;5;241;43m1\u001b[39;49m\u001b[43m,\u001b[49m\u001b[43m)\u001b[49m\n",
      "\u001b[0;31mTypeError\u001b[0m: 'int' object is not iterable"
     ]
    }
   ],
   "source": [
    "c = tuple(1,)"
   ]
  },
  {
   "cell_type": "code",
   "execution_count": 61,
   "id": "f026afbf-9d1d-4390-80c0-b70a393bc6bb",
   "metadata": {},
   "outputs": [
    {
     "data": {
      "text/plain": [
       "list"
      ]
     },
     "execution_count": 61,
     "metadata": {},
     "output_type": "execute_result"
    }
   ],
   "source": [
    "type(o)"
   ]
  },
  {
   "cell_type": "code",
   "execution_count": 67,
   "id": "d83010ec-afb9-4527-8e1c-4ecc9381f60c",
   "metadata": {},
   "outputs": [],
   "source": [
    "t = tuple[1,2,3]"
   ]
  },
  {
   "cell_type": "code",
   "execution_count": 68,
   "id": "1d14dd5e-cdd0-4fba-b8b0-94237d758fef",
   "metadata": {},
   "outputs": [
    {
     "data": {
      "text/plain": [
       "types.GenericAlias"
      ]
     },
     "execution_count": 68,
     "metadata": {},
     "output_type": "execute_result"
    }
   ],
   "source": [
    "type(t)"
   ]
  },
  {
   "cell_type": "code",
   "execution_count": 70,
   "id": "309da6d1-efdc-4d73-a503-24d0e8a63a73",
   "metadata": {},
   "outputs": [
    {
     "ename": "TypeError",
     "evalue": "tuple expected at most 1 argument, got 3",
     "output_type": "error",
     "traceback": [
      "\u001b[0;31m---------------------------------------------------------------------------\u001b[0m",
      "\u001b[0;31mTypeError\u001b[0m                                 Traceback (most recent call last)",
      "Cell \u001b[0;32mIn[70], line 1\u001b[0m\n\u001b[0;32m----> 1\u001b[0m t \u001b[38;5;241m=\u001b[39m \u001b[38;5;28;43mtuple\u001b[39;49m\u001b[43m(\u001b[49m\u001b[38;5;241;43m1\u001b[39;49m\u001b[43m,\u001b[49m\u001b[38;5;241;43m2\u001b[39;49m\u001b[43m,\u001b[49m\u001b[38;5;241;43m3\u001b[39;49m\u001b[43m)\u001b[49m\n",
      "\u001b[0;31mTypeError\u001b[0m: tuple expected at most 1 argument, got 3"
     ]
    }
   ],
   "source": [
    "t = tuple(1,2,3)"
   ]
  },
  {
   "cell_type": "code",
   "execution_count": 72,
   "id": "f7ba8c45-ddad-4c30-a0e3-48cbd61df79c",
   "metadata": {},
   "outputs": [],
   "source": [
    "l = list[1,2,3,4,5]"
   ]
  },
  {
   "cell_type": "code",
   "execution_count": 73,
   "id": "017e7051-e891-47d8-bc5d-194c5cee912e",
   "metadata": {},
   "outputs": [
    {
     "data": {
      "text/plain": [
       "types.GenericAlias"
      ]
     },
     "execution_count": 73,
     "metadata": {},
     "output_type": "execute_result"
    }
   ],
   "source": [
    "type(l)"
   ]
  },
  {
   "cell_type": "code",
   "execution_count": 74,
   "id": "f9a95377-28e8-4605-a3a1-e0aed560c84d",
   "metadata": {},
   "outputs": [
    {
     "ename": "TypeError",
     "evalue": "list expected at most 1 argument, got 4",
     "output_type": "error",
     "traceback": [
      "\u001b[0;31m---------------------------------------------------------------------------\u001b[0m",
      "\u001b[0;31mTypeError\u001b[0m                                 Traceback (most recent call last)",
      "Cell \u001b[0;32mIn[74], line 1\u001b[0m\n\u001b[0;32m----> 1\u001b[0m l \u001b[38;5;241m=\u001b[39m \u001b[38;5;28;43mlist\u001b[39;49m\u001b[43m(\u001b[49m\u001b[38;5;241;43m1\u001b[39;49m\u001b[43m,\u001b[49m\u001b[38;5;241;43m2\u001b[39;49m\u001b[43m,\u001b[49m\u001b[38;5;241;43m3\u001b[39;49m\u001b[43m,\u001b[49m\u001b[38;5;241;43m4\u001b[39;49m\u001b[43m)\u001b[49m\n",
      "\u001b[0;31mTypeError\u001b[0m: list expected at most 1 argument, got 4"
     ]
    }
   ],
   "source": [
    "l = list(1,2,3,4)"
   ]
  },
  {
   "cell_type": "code",
   "execution_count": 75,
   "id": "25a609d3-112b-4fe1-b4dd-36bb7da108b0",
   "metadata": {},
   "outputs": [],
   "source": [
    "\n",
    "jj = {1: 'one', 2: 'two'}"
   ]
  },
  {
   "cell_type": "code",
   "execution_count": 76,
   "id": "06cfb6d1-a369-4205-87aa-3f675ce72e9f",
   "metadata": {},
   "outputs": [
    {
     "ename": "TypeError",
     "evalue": "unhashable type: 'list'",
     "output_type": "error",
     "traceback": [
      "\u001b[0;31m---------------------------------------------------------------------------\u001b[0m",
      "\u001b[0;31mTypeError\u001b[0m                                 Traceback (most recent call last)",
      "Cell \u001b[0;32mIn[76], line 1\u001b[0m\n\u001b[0;32m----> 1\u001b[0m jj \u001b[38;5;241m=\u001b[39m {[\u001b[38;5;241m1\u001b[39m,\u001b[38;5;241m2\u001b[39m,\u001b[38;5;241m3\u001b[39m]: \u001b[38;5;124m'\u001b[39m\u001b[38;5;124mlist\u001b[39m\u001b[38;5;124m'\u001b[39m}\n",
      "\u001b[0;31mTypeError\u001b[0m: unhashable type: 'list'"
     ]
    }
   ],
   "source": [
    "jj = {[1,2,3]: 'list'} # WRONG "
   ]
  },
  {
   "cell_type": "code",
   "execution_count": 77,
   "id": "2e17594d-24e1-4c1d-a124-7ca0c9137ba5",
   "metadata": {},
   "outputs": [],
   "source": [
    "p =list()"
   ]
  },
  {
   "cell_type": "code",
   "execution_count": 78,
   "id": "54870cf2-04b9-4a6f-8705-f35c4308da40",
   "metadata": {},
   "outputs": [
    {
     "data": {
      "text/plain": [
       "list"
      ]
     },
     "execution_count": 78,
     "metadata": {},
     "output_type": "execute_result"
    }
   ],
   "source": [
    "type(p)"
   ]
  },
  {
   "cell_type": "code",
   "execution_count": 4,
   "id": "77e75be7-0a61-43a7-aadd-8f9547b72ad2",
   "metadata": {},
   "outputs": [],
   "source": [
    "t = (1)"
   ]
  },
  {
   "cell_type": "code",
   "execution_count": 11,
   "id": "499d88e0-27f4-4ebb-ad8e-d9f46f8f43cf",
   "metadata": {},
   "outputs": [],
   "source": [
    "t =(0,)"
   ]
  },
  {
   "cell_type": "code",
   "execution_count": 12,
   "id": "5fc1e740-ae9c-4c2b-bce5-aeb9f882a1cc",
   "metadata": {},
   "outputs": [
    {
     "data": {
      "text/plain": [
       "(0,)"
      ]
     },
     "execution_count": 12,
     "metadata": {},
     "output_type": "execute_result"
    }
   ],
   "source": [
    "t"
   ]
  },
  {
   "cell_type": "code",
   "execution_count": 13,
   "id": "6262c370-8802-4f7f-9129-f1052e9d9b0b",
   "metadata": {},
   "outputs": [
    {
     "data": {
      "text/plain": [
       "tuple"
      ]
     },
     "execution_count": 13,
     "metadata": {},
     "output_type": "execute_result"
    }
   ],
   "source": [
    "type(t)"
   ]
  },
  {
   "cell_type": "code",
   "execution_count": 17,
   "id": "b2c24f76-8edb-4fdf-a786-0b6e0994e931",
   "metadata": {},
   "outputs": [],
   "source": [
    "#s = set(0,)\n",
    "#l = list[1,]\n",
    "s ={0,}"
   ]
  },
  {
   "cell_type": "code",
   "execution_count": 18,
   "id": "b5308e3a-50ef-407e-8dd6-f23ed7146375",
   "metadata": {},
   "outputs": [
    {
     "data": {
      "text/plain": [
       "set"
      ]
     },
     "execution_count": 18,
     "metadata": {},
     "output_type": "execute_result"
    }
   ],
   "source": [
    "type(s)"
   ]
  },
  {
   "cell_type": "code",
   "execution_count": 10,
   "id": "bfabb69d-c147-4b14-ba85-b5fe2d553d07",
   "metadata": {},
   "outputs": [
    {
     "ename": "TypeError",
     "evalue": "'int' object is not iterable",
     "output_type": "error",
     "traceback": [
      "\u001b[0;31m---------------------------------------------------------------------------\u001b[0m",
      "\u001b[0;31mTypeError\u001b[0m                                 Traceback (most recent call last)",
      "Cell \u001b[0;32mIn[10], line 1\u001b[0m\n\u001b[0;32m----> 1\u001b[0m t \u001b[38;5;241m=\u001b[39m \u001b[38;5;28;43mtuple\u001b[39;49m\u001b[43m(\u001b[49m\u001b[38;5;241;43m1\u001b[39;49m\u001b[43m,\u001b[49m\u001b[43m)\u001b[49m\n",
      "\u001b[0;31mTypeError\u001b[0m: 'int' object is not iterable"
     ]
    }
   ],
   "source": [
    "t = tuple(1,)"
   ]
  },
  {
   "cell_type": "code",
   "execution_count": 8,
   "id": "2d7ebb89-0493-4ddc-ace8-28a87cb67053",
   "metadata": {},
   "outputs": [
    {
     "ename": "SyntaxError",
     "evalue": "invalid syntax (2116356811.py, line 1)",
     "output_type": "error",
     "traceback": [
      "\u001b[0;36m  Cell \u001b[0;32mIn[8], line 1\u001b[0;36m\u001b[0m\n\u001b[0;31m    se = set{1,2,3}\u001b[0m\n\u001b[0m            ^\u001b[0m\n\u001b[0;31mSyntaxError\u001b[0m\u001b[0;31m:\u001b[0m invalid syntax\n"
     ]
    }
   ],
   "source": [
    "se = set{1,2,3}"
   ]
  },
  {
   "cell_type": "code",
   "execution_count": null,
   "id": "bfde235a-dd3d-4e09-ae31-06c70e86ba23",
   "metadata": {},
   "outputs": [],
   "source": [
    "type(se)"
   ]
  },
  {
   "cell_type": "code",
   "execution_count": null,
   "id": "643b82c9-25cb-475b-839d-551692307cb3",
   "metadata": {},
   "outputs": [],
   "source": [
    "l = [1,2,3,4,5]\n"
   ]
  },
  {
   "cell_type": "code",
   "execution_count": null,
   "id": "3a8243be-d4b4-497b-94b1-118042ad2e3f",
   "metadata": {},
   "outputs": [],
   "source": [
    "l.pop()"
   ]
  },
  {
   "cell_type": "code",
   "execution_count": 6,
   "id": "db883066-c2a6-4708-9c03-0d4133fa17f5",
   "metadata": {},
   "outputs": [],
   "source": [
    "t =(1,)"
   ]
  },
  {
   "cell_type": "code",
   "execution_count": 7,
   "id": "7b63562d-fac8-494d-928c-79b9eab1f469",
   "metadata": {},
   "outputs": [
    {
     "data": {
      "text/plain": [
       "tuple"
      ]
     },
     "execution_count": 7,
     "metadata": {},
     "output_type": "execute_result"
    }
   ],
   "source": [
    "type(t)"
   ]
  },
  {
   "cell_type": "code",
   "execution_count": null,
   "id": "8998243f-7da4-4763-9606-1381aadf90fe",
   "metadata": {},
   "outputs": [],
   "source": []
  }
 ],
 "metadata": {
  "kernelspec": {
   "display_name": "Python 3 (ipykernel)",
   "language": "python",
   "name": "python3"
  },
  "language_info": {
   "codemirror_mode": {
    "name": "ipython",
    "version": 3
   },
   "file_extension": ".py",
   "mimetype": "text/x-python",
   "name": "python",
   "nbconvert_exporter": "python",
   "pygments_lexer": "ipython3",
   "version": "3.10.8"
  }
 },
 "nbformat": 4,
 "nbformat_minor": 5
}
