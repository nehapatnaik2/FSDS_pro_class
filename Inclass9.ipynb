{
 "cells": [
  {
   "cell_type": "code",
   "execution_count": null,
   "id": "b789bef2-32aa-4ff5-8bdf-8b99dc607352",
   "metadata": {},
   "outputs": [],
   "source": [
    "Inclass 9:\n",
    "    "
   ]
  },
  {
   "cell_type": "code",
   "execution_count": null,
   "id": "9e8707cc-e78a-4fc3-99a4-02ccb737da20",
   "metadata": {},
   "outputs": [],
   "source": [
    "Recursive function:"
   ]
  },
  {
   "cell_type": "code",
   "execution_count": 6,
   "id": "b9ad0ed5-bf48-4cf2-b8f0-c592105ee3db",
   "metadata": {},
   "outputs": [],
   "source": [
    "# Find length of a string using recursive\n",
    "def leng(s):\n",
    "    if s == \"\":\n",
    "        return 0\n",
    "    else:\n",
    "        return (1+ leng(s[1:]))"
   ]
  },
  {
   "cell_type": "code",
   "execution_count": 7,
   "id": "a156de41-0ec5-4df7-a1da-d920fd690e9d",
   "metadata": {},
   "outputs": [
    {
     "data": {
      "text/plain": [
       "5"
      ]
     },
     "execution_count": 7,
     "metadata": {},
     "output_type": "execute_result"
    }
   ],
   "source": [
    "leng(\"March\")"
   ]
  },
  {
   "cell_type": "code",
   "execution_count": null,
   "id": "9d579416-3b23-47e5-9c3c-6ebfd37338eb",
   "metadata": {},
   "outputs": [],
   "source": [
    "count the no. of occurance:"
   ]
  },
  {
   "cell_type": "code",
   "execution_count": 1,
   "id": "98c932ac-437f-4dbd-b277-f708738bdce5",
   "metadata": {},
   "outputs": [],
   "source": [
    "def count_char(s,c):\n",
    "    if s == \"\":\n",
    "        return 0\n",
    "    elif s[0] == c:\n",
    "        return 1+ count_char(s[1:],c)\n",
    "    else:\n",
    "        return count_char(s,c)\n",
    "        "
   ]
  },
  {
   "cell_type": "code",
   "execution_count": 3,
   "id": "2a660463-ff69-4dac-9291-303a1bdd9f19",
   "metadata": {},
   "outputs": [
    {
     "ename": "RecursionError",
     "evalue": "maximum recursion depth exceeded in comparison",
     "output_type": "error",
     "traceback": [
      "\u001b[0;31m---------------------------------------------------------------------------\u001b[0m",
      "\u001b[0;31mRecursionError\u001b[0m                            Traceback (most recent call last)",
      "Cell \u001b[0;32mIn[3], line 2\u001b[0m\n\u001b[1;32m      1\u001b[0m s\u001b[38;5;241m=\u001b[39m \u001b[38;5;124m'\u001b[39m\u001b[38;5;124mabcdff\u001b[39m\u001b[38;5;124m'\u001b[39m\n\u001b[0;32m----> 2\u001b[0m \u001b[43mcount_char\u001b[49m\u001b[43m(\u001b[49m\u001b[43ms\u001b[49m\u001b[43m,\u001b[49m\u001b[38;5;124;43m\"\u001b[39;49m\u001b[38;5;124;43mf\u001b[39;49m\u001b[38;5;124;43m\"\u001b[39;49m\u001b[43m)\u001b[49m\n",
      "Cell \u001b[0;32mIn[1], line 7\u001b[0m, in \u001b[0;36mcount_char\u001b[0;34m(s, c)\u001b[0m\n\u001b[1;32m      5\u001b[0m     \u001b[38;5;28;01mreturn\u001b[39;00m \u001b[38;5;241m1\u001b[39m\u001b[38;5;241m+\u001b[39m count_char(s[\u001b[38;5;241m1\u001b[39m:],c)\n\u001b[1;32m      6\u001b[0m \u001b[38;5;28;01melse\u001b[39;00m:\n\u001b[0;32m----> 7\u001b[0m     \u001b[38;5;28;01mreturn\u001b[39;00m \u001b[43mcount_char\u001b[49m\u001b[43m(\u001b[49m\u001b[43ms\u001b[49m\u001b[43m,\u001b[49m\u001b[43mc\u001b[49m\u001b[43m)\u001b[49m\n",
      "Cell \u001b[0;32mIn[1], line 7\u001b[0m, in \u001b[0;36mcount_char\u001b[0;34m(s, c)\u001b[0m\n\u001b[1;32m      5\u001b[0m     \u001b[38;5;28;01mreturn\u001b[39;00m \u001b[38;5;241m1\u001b[39m\u001b[38;5;241m+\u001b[39m count_char(s[\u001b[38;5;241m1\u001b[39m:],c)\n\u001b[1;32m      6\u001b[0m \u001b[38;5;28;01melse\u001b[39;00m:\n\u001b[0;32m----> 7\u001b[0m     \u001b[38;5;28;01mreturn\u001b[39;00m \u001b[43mcount_char\u001b[49m\u001b[43m(\u001b[49m\u001b[43ms\u001b[49m\u001b[43m,\u001b[49m\u001b[43mc\u001b[49m\u001b[43m)\u001b[49m\n",
      "    \u001b[0;31m[... skipping similar frames: count_char at line 7 (2969 times)]\u001b[0m\n",
      "Cell \u001b[0;32mIn[1], line 7\u001b[0m, in \u001b[0;36mcount_char\u001b[0;34m(s, c)\u001b[0m\n\u001b[1;32m      5\u001b[0m     \u001b[38;5;28;01mreturn\u001b[39;00m \u001b[38;5;241m1\u001b[39m\u001b[38;5;241m+\u001b[39m count_char(s[\u001b[38;5;241m1\u001b[39m:],c)\n\u001b[1;32m      6\u001b[0m \u001b[38;5;28;01melse\u001b[39;00m:\n\u001b[0;32m----> 7\u001b[0m     \u001b[38;5;28;01mreturn\u001b[39;00m \u001b[43mcount_char\u001b[49m\u001b[43m(\u001b[49m\u001b[43ms\u001b[49m\u001b[43m,\u001b[49m\u001b[43mc\u001b[49m\u001b[43m)\u001b[49m\n",
      "Cell \u001b[0;32mIn[1], line 2\u001b[0m, in \u001b[0;36mcount_char\u001b[0;34m(s, c)\u001b[0m\n\u001b[1;32m      1\u001b[0m \u001b[38;5;28;01mdef\u001b[39;00m \u001b[38;5;21mcount_char\u001b[39m(s,c):\n\u001b[0;32m----> 2\u001b[0m     \u001b[38;5;28;01mif\u001b[39;00m \u001b[43ms\u001b[49m\u001b[43m \u001b[49m\u001b[38;5;241;43m==\u001b[39;49m\u001b[43m \u001b[49m\u001b[38;5;124;43m\"\u001b[39;49m\u001b[38;5;124;43m\"\u001b[39;49m:\n\u001b[1;32m      3\u001b[0m         \u001b[38;5;28;01mreturn\u001b[39;00m \u001b[38;5;241m0\u001b[39m\n\u001b[1;32m      4\u001b[0m     \u001b[38;5;28;01melif\u001b[39;00m s[\u001b[38;5;241m0\u001b[39m] \u001b[38;5;241m==\u001b[39m c:\n",
      "\u001b[0;31mRecursionError\u001b[0m: maximum recursion depth exceeded in comparison"
     ]
    }
   ],
   "source": [
    "s= 'abcdff'\n",
    "count_char(s,\"f\")"
   ]
  },
  {
   "cell_type": "code",
   "execution_count": null,
   "id": "f128d96a-3ba4-4181-8e29-2c763d4f69d2",
   "metadata": {},
   "outputs": [],
   "source": [
    "Recursion to see if a list is sorted or not."
   ]
  },
  {
   "cell_type": "code",
   "execution_count": 6,
   "id": "60bda27c-6481-4621-a319-3d2617b9a84c",
   "metadata": {},
   "outputs": [],
   "source": [
    "l = [1,2,994,66,77,88]\n",
    "def chk(l):\n",
    "    if len(l) == 1:\n",
    "        return True\n",
    "    elif l[0] > l[1]:\n",
    "        return False\n",
    "    else:\n",
    "        return chk(l[1:])"
   ]
  },
  {
   "cell_type": "code",
   "execution_count": null,
   "id": "348027f7-4345-481c-a387-0fb2598779f3",
   "metadata": {},
   "outputs": [],
   "source": []
  },
  {
   "cell_type": "code",
   "execution_count": 7,
   "id": "5f35c178-f81e-4a7d-9d4c-b3313dd3d0b5",
   "metadata": {},
   "outputs": [
    {
     "data": {
      "text/plain": [
       "False"
      ]
     },
     "execution_count": 7,
     "metadata": {},
     "output_type": "execute_result"
    }
   ],
   "source": [
    "chk(l)"
   ]
  },
  {
   "cell_type": "code",
   "execution_count": null,
   "id": "8c7f544a-ab7e-4201-92e9-acdcb0873562",
   "metadata": {},
   "outputs": [],
   "source": [
    "check if a number is a perfect square??\n"
   ]
  },
  {
   "cell_type": "code",
   "execution_count": 16,
   "id": "ac16973a-cf41-439a-a0de-aaa2a1b48406",
   "metadata": {},
   "outputs": [],
   "source": [
    "def chk_square(n, start = 1):\n",
    "    if n == start ** 2:\n",
    "        return True\n",
    "    elif n< start**2:\n",
    "        return False\n",
    "    else:\n",
    "        return chk_square(n, start+1)\n",
    "    "
   ]
  },
  {
   "cell_type": "code",
   "execution_count": 17,
   "id": "e32f51f6-14e9-44b2-811d-9276a92168a0",
   "metadata": {},
   "outputs": [
    {
     "data": {
      "text/plain": [
       "False"
      ]
     },
     "execution_count": 17,
     "metadata": {},
     "output_type": "execute_result"
    }
   ],
   "source": [
    "chk_square(99)"
   ]
  },
  {
   "cell_type": "code",
   "execution_count": null,
   "id": "e86d03a8-ce78-4783-9af4-4bfc46ebe875",
   "metadata": {},
   "outputs": [],
   "source": [
    "Iterators:"
   ]
  },
  {
   "cell_type": "code",
   "execution_count": null,
   "id": "3d550e8f-f992-4199-b995-f937e96cb149",
   "metadata": {},
   "outputs": [],
   "source": [
    "An integer is not iterable."
   ]
  },
  {
   "cell_type": "code",
   "execution_count": 18,
   "id": "6bae840f-9870-4ef0-b187-06fc1c8aceb7",
   "metadata": {},
   "outputs": [
    {
     "ename": "TypeError",
     "evalue": "'int' object is not iterable",
     "output_type": "error",
     "traceback": [
      "\u001b[0;31m---------------------------------------------------------------------------\u001b[0m",
      "\u001b[0;31mTypeError\u001b[0m                                 Traceback (most recent call last)",
      "Cell \u001b[0;32mIn[18], line 2\u001b[0m\n\u001b[1;32m      1\u001b[0m a \u001b[38;5;241m=\u001b[39m \u001b[38;5;241m10\u001b[39m\n\u001b[0;32m----> 2\u001b[0m \u001b[38;5;28;43miter\u001b[39;49m\u001b[43m(\u001b[49m\u001b[43ma\u001b[49m\u001b[43m)\u001b[49m\n",
      "\u001b[0;31mTypeError\u001b[0m: 'int' object is not iterable"
     ]
    }
   ],
   "source": [
    "a = 10\n",
    "iter(a)"
   ]
  },
  {
   "cell_type": "code",
   "execution_count": 20,
   "id": "23b541ce-4561-489c-85cd-0348c453e258",
   "metadata": {},
   "outputs": [],
   "source": [
    "s =iter('sudh')"
   ]
  },
  {
   "cell_type": "code",
   "execution_count": 21,
   "id": "8a987605-8969-479c-99f4-2371d255dd83",
   "metadata": {},
   "outputs": [
    {
     "data": {
      "text/plain": [
       "'s'"
      ]
     },
     "execution_count": 21,
     "metadata": {},
     "output_type": "execute_result"
    }
   ],
   "source": [
    "next(s)"
   ]
  },
  {
   "cell_type": "code",
   "execution_count": 22,
   "id": "f045302a-d187-4f00-be99-acf2a698d25a",
   "metadata": {},
   "outputs": [
    {
     "ename": "TypeError",
     "evalue": "'str' object is not an iterator",
     "output_type": "error",
     "traceback": [
      "\u001b[0;31m---------------------------------------------------------------------------\u001b[0m",
      "\u001b[0;31mTypeError\u001b[0m                                 Traceback (most recent call last)",
      "Cell \u001b[0;32mIn[22], line 2\u001b[0m\n\u001b[1;32m      1\u001b[0m s1 \u001b[38;5;241m=\u001b[39m \u001b[38;5;124m'\u001b[39m\u001b[38;5;124mannn\u001b[39m\u001b[38;5;124m'\u001b[39m\n\u001b[0;32m----> 2\u001b[0m \u001b[38;5;28;43mnext\u001b[39;49m\u001b[43m(\u001b[49m\u001b[43ms1\u001b[49m\u001b[43m)\u001b[49m\n",
      "\u001b[0;31mTypeError\u001b[0m: 'str' object is not an iterator"
     ]
    }
   ],
   "source": [
    "s1 = 'annn'\n",
    "next(s1)"
   ]
  },
  {
   "cell_type": "code",
   "execution_count": null,
   "id": "604976c7-b9de-4813-9560-7dab83b3fb5b",
   "metadata": {},
   "outputs": [],
   "source": [
    "Only iterable objects like a list, tuple or string can be made in to a iterator!!!\n",
    "similarly for loop converts iterable object in to iterator.\n",
    "iter() converts a data to iterator."
   ]
  },
  {
   "cell_type": "code",
   "execution_count": null,
   "id": "17e399c0-b618-4bf9-b12c-a87cedb9beec",
   "metadata": {},
   "outputs": [],
   "source": [
    "Generator function:"
   ]
  },
  {
   "cell_type": "code",
   "execution_count": null,
   "id": "175baa05-2e43-4bcb-b1e7-0cc51084b858",
   "metadata": {},
   "outputs": [],
   "source": [
    "whenever we call a function such as range(0,5) it does not give any return. It is a type of generator function.\n",
    "Where as for e.g len(l) gives us some return.\n",
    "Generator function uses 'yield' keyword instead of 'return'."
   ]
  },
  {
   "cell_type": "code",
   "execution_count": null,
   "id": "90843768-a5c8-4b28-bb28-3f9a6ce801d4",
   "metadata": {},
   "outputs": [],
   "source": [
    "Generator function e.g.:"
   ]
  },
  {
   "cell_type": "code",
   "execution_count": 23,
   "id": "d3b15b8e-5c37-41f2-85e4-a64ac172c12c",
   "metadata": {},
   "outputs": [],
   "source": [
    "def count(n):\n",
    "    i = 1\n",
    "    while i<n:\n",
    "        yield i\n",
    "        i = i+1"
   ]
  },
  {
   "cell_type": "code",
   "execution_count": 24,
   "id": "605c9c99-786f-4916-bcb2-0ff48f7616ee",
   "metadata": {},
   "outputs": [
    {
     "data": {
      "text/plain": [
       "<generator object count at 0x7f7b506a7920>"
      ]
     },
     "execution_count": 24,
     "metadata": {},
     "output_type": "execute_result"
    }
   ],
   "source": [
    "count(9)"
   ]
  },
  {
   "cell_type": "code",
   "execution_count": 27,
   "id": "5c3781f0-9d5d-4a27-a5be-64eeb2a0f546",
   "metadata": {},
   "outputs": [],
   "source": [
    "g = count(9)"
   ]
  },
  {
   "cell_type": "code",
   "execution_count": 28,
   "id": "2fcd6f80-afd4-4180-b744-6a882e5488b5",
   "metadata": {},
   "outputs": [
    {
     "name": "stdout",
     "output_type": "stream",
     "text": [
      "1\n",
      "2\n",
      "3\n",
      "4\n",
      "5\n",
      "6\n",
      "7\n",
      "8\n"
     ]
    }
   ],
   "source": [
    "for i in g:\n",
    "    print( i)"
   ]
  },
  {
   "cell_type": "code",
   "execution_count": 29,
   "id": "02f04773-e378-4367-975a-e60f9e7aa913",
   "metadata": {},
   "outputs": [],
   "source": [
    "def count(n):\n",
    "    i = 1\n",
    "    while i<n:\n",
    "        return i\n",
    "        i = i+1"
   ]
  },
  {
   "cell_type": "code",
   "execution_count": 30,
   "id": "ceef5aba-1b8c-435b-b515-d6f4d8a823c0",
   "metadata": {},
   "outputs": [
    {
     "data": {
      "text/plain": [
       "1"
      ]
     },
     "execution_count": 30,
     "metadata": {},
     "output_type": "execute_result"
    }
   ],
   "source": [
    "count(9)"
   ]
  },
  {
   "cell_type": "code",
   "execution_count": null,
   "id": "3648bae9-00f6-4e1e-a035-9e4a5338872d",
   "metadata": {},
   "outputs": [],
   "source": [
    "'Return' will return / give the data only once!\n",
    "'yield' returns the complete data/iterator. which can be iterable later."
   ]
  },
  {
   "cell_type": "code",
   "execution_count": null,
   "id": "7f6a52a6-a701-4e12-b9ed-22f9b9c2e0a4",
   "metadata": {},
   "outputs": [],
   "source": [
    "We can use a list and the do list.append and use return key word to get the entire list at the end.\n",
    "return here  prepares the whole data, holds it, to give the result.\n",
    "But RAM memory gets used heavily. It becomes memory intensive.\n",
    "\n",
    "To solve this problem, yield comes to help.\n",
    "It doesnot wait for the whole data to give the result.\n",
    "It shows the data one by one immediately and then erases it.\n",
    "yield is very benefical to produce large amount of data."
   ]
  },
  {
   "cell_type": "code",
   "execution_count": 31,
   "id": "01d5d982-7617-46e2-87a4-64fbe0fdc58b",
   "metadata": {},
   "outputs": [],
   "source": [
    "def count(n):\n",
    "    i = 1\n",
    "    while i<n:\n",
    "        yield i\n",
    "        i = i+1"
   ]
  },
  {
   "cell_type": "code",
   "execution_count": 33,
   "id": "ebaaef2b-4e6c-4725-8e0e-6ca1a871c32b",
   "metadata": {},
   "outputs": [],
   "source": [
    "j = count(500000)"
   ]
  },
  {
   "cell_type": "code",
   "execution_count": null,
   "id": "84b27d20-8c0e-496c-a3ad-0e406b801aba",
   "metadata": {},
   "outputs": [],
   "source": [
    "for i in j:\n",
    "    print(i)"
   ]
  },
  {
   "cell_type": "code",
   "execution_count": null,
   "id": "06678124-5584-4c54-ae8d-26fe9bc96a38",
   "metadata": {},
   "outputs": [],
   "source": [
    "Fibonaci series in a generative way:"
   ]
  },
  {
   "cell_type": "code",
   "execution_count": 20,
   "id": "c0da1f31-d3de-430a-bea2-df4ba2ec8191",
   "metadata": {},
   "outputs": [],
   "source": [
    "def fibo(n):\n",
    "    a = 0\n",
    "    b = 1\n",
    "    for i in range(n):\n",
    "        yield a\n",
    "        a,b =b,a+b\n",
    "        "
   ]
  },
  {
   "cell_type": "code",
   "execution_count": 21,
   "id": "4489e126-f6c9-4d62-bcce-a17afbdd2f42",
   "metadata": {},
   "outputs": [],
   "source": [
    "f =fibo(9)"
   ]
  },
  {
   "cell_type": "code",
   "execution_count": 22,
   "id": "e1d2c4ad-8719-428d-8c47-bf65cbb0d398",
   "metadata": {},
   "outputs": [
    {
     "name": "stdout",
     "output_type": "stream",
     "text": [
      "0\n",
      "1\n",
      "1\n",
      "2\n",
      "3\n",
      "5\n",
      "8\n",
      "13\n",
      "21\n"
     ]
    }
   ],
   "source": [
    "for i in f:\n",
    "    print(i)"
   ]
  },
  {
   "cell_type": "code",
   "execution_count": 47,
   "id": "f2db5164-1ff9-4421-ba55-ff918333d9a0",
   "metadata": {},
   "outputs": [],
   "source": [
    "\"\"\"def fact(n):\n",
    "    if n ==0:\n",
    "        return 1\n",
    "    else:\n",
    "        for i in range(n):\n",
    "            yield n*fact(n-1)\"\"\""
   ]
  },
  {
   "cell_type": "code",
   "execution_count": 48,
   "id": "046805d1-3139-408e-8380-507fe3aba755",
   "metadata": {},
   "outputs": [
    {
     "data": {
      "text/plain": [
       "<generator object fact at 0x7f80bc53b220>"
      ]
     },
     "execution_count": 48,
     "metadata": {},
     "output_type": "execute_result"
    }
   ],
   "source": [
    "fact(8)"
   ]
  },
  {
   "cell_type": "code",
   "execution_count": 49,
   "id": "c15b81f8-8ab7-49f6-93aa-3a3962c48c64",
   "metadata": {},
   "outputs": [
    {
     "ename": "TypeError",
     "evalue": "unsupported operand type(s) for *: 'int' and 'generator'",
     "output_type": "error",
     "traceback": [
      "\u001b[0;31m---------------------------------------------------------------------------\u001b[0m",
      "\u001b[0;31mTypeError\u001b[0m                                 Traceback (most recent call last)",
      "Cell \u001b[0;32mIn[49], line 1\u001b[0m\n\u001b[0;32m----> 1\u001b[0m \u001b[38;5;28;01mfor\u001b[39;00m i \u001b[38;5;129;01min\u001b[39;00m fact(\u001b[38;5;241m8\u001b[39m):\n\u001b[1;32m      2\u001b[0m     \u001b[38;5;28mprint\u001b[39m (i)\n",
      "Cell \u001b[0;32mIn[47], line 6\u001b[0m, in \u001b[0;36mfact\u001b[0;34m(n)\u001b[0m\n\u001b[1;32m      4\u001b[0m \u001b[38;5;28;01melse\u001b[39;00m:\n\u001b[1;32m      5\u001b[0m     \u001b[38;5;28;01mfor\u001b[39;00m i \u001b[38;5;129;01min\u001b[39;00m \u001b[38;5;28mrange\u001b[39m(n):\n\u001b[0;32m----> 6\u001b[0m         \u001b[38;5;28;01myield\u001b[39;00m \u001b[43mn\u001b[49m\u001b[38;5;241;43m*\u001b[39;49m\u001b[43mfact\u001b[49m\u001b[43m(\u001b[49m\u001b[43mn\u001b[49m\u001b[38;5;241;43m-\u001b[39;49m\u001b[38;5;241;43m1\u001b[39;49m\u001b[43m)\u001b[49m\n",
      "\u001b[0;31mTypeError\u001b[0m: unsupported operand type(s) for *: 'int' and 'generator'"
     ]
    }
   ],
   "source": [
    "for i in fact(8):\n",
    "    print (i)"
   ]
  },
  {
   "cell_type": "code",
   "execution_count": null,
   "id": "41acf45e-4126-4ec3-889f-6328077ca884",
   "metadata": {},
   "outputs": [],
   "source": [
    "Reading a text file."
   ]
  },
  {
   "cell_type": "code",
   "execution_count": 5,
   "id": "f96ce69c-899d-466c-9cee-82c403834bc3",
   "metadata": {},
   "outputs": [
    {
     "data": {
      "text/plain": [
       "'/home/jovyan/work'"
      ]
     },
     "execution_count": 5,
     "metadata": {},
     "output_type": "execute_result"
    }
   ],
   "source": [
    "pwd\n"
   ]
  },
  {
   "cell_type": "code",
   "execution_count": 25,
   "id": "bb2e68ae-50f8-43a7-b6ae-a36a7ddfab0d",
   "metadata": {
    "collapsed": true,
    "jupyter": {
     "outputs_hidden": true
    },
    "tags": []
   },
   "outputs": [
    {
     "ename": "NameError",
     "evalue": "name 'ls' is not defined",
     "output_type": "error",
     "traceback": [
      "\u001b[0;31m---------------------------------------------------------------------------\u001b[0m",
      "\u001b[0;31mNameError\u001b[0m                                 Traceback (most recent call last)",
      "Cell \u001b[0;32mIn[25], line 1\u001b[0m\n\u001b[0;32m----> 1\u001b[0m \u001b[43mls\u001b[49m\n\u001b[1;32m      2\u001b[0m \u001b[38;5;66;03m#lists all files\u001b[39;00m\n",
      "\u001b[0;31mNameError\u001b[0m: name 'ls' is not defined"
     ]
    }
   ],
   "source": [
    "ls\n",
    "#lists all files"
   ]
  },
  {
   "cell_type": "code",
   "execution_count": 29,
   "id": "6e9d5fd6-e025-4067-ad4b-b1a82a5bde49",
   "metadata": {},
   "outputs": [],
   "source": [
    "def read_file(file_name):\n",
    "    with open(file_name, r) as my_file:\n",
    "        for i in my_file:\n",
    "            yield i"
   ]
  },
  {
   "cell_type": "code",
   "execution_count": 30,
   "id": "dfb528d3-18a9-4212-aa73-c84f22b98d37",
   "metadata": {},
   "outputs": [
    {
     "data": {
      "text/plain": [
       "<generator object read_file at 0x7f80bc539ee0>"
      ]
     },
     "execution_count": 30,
     "metadata": {},
     "output_type": "execute_result"
    }
   ],
   "source": [
    "read_file('test.txt')"
   ]
  },
  {
   "cell_type": "code",
   "execution_count": 31,
   "id": "28e7a34a-584a-486e-af0f-6671d077e66c",
   "metadata": {
    "collapsed": true,
    "jupyter": {
     "outputs_hidden": true
    },
    "tags": []
   },
   "outputs": [
    {
     "ename": "NameError",
     "evalue": "name 'r' is not defined",
     "output_type": "error",
     "traceback": [
      "\u001b[0;31m---------------------------------------------------------------------------\u001b[0m",
      "\u001b[0;31mNameError\u001b[0m                                 Traceback (most recent call last)",
      "Cell \u001b[0;32mIn[31], line 1\u001b[0m\n\u001b[0;32m----> 1\u001b[0m \u001b[38;5;28;01mfor\u001b[39;00m i \u001b[38;5;129;01min\u001b[39;00m read_file(\u001b[38;5;124m'\u001b[39m\u001b[38;5;124mtest.txt\u001b[39m\u001b[38;5;124m'\u001b[39m):\n\u001b[1;32m      2\u001b[0m     \u001b[38;5;28mprint\u001b[39m(i)\n",
      "Cell \u001b[0;32mIn[29], line 2\u001b[0m, in \u001b[0;36mread_file\u001b[0;34m(file_name)\u001b[0m\n\u001b[1;32m      1\u001b[0m \u001b[38;5;28;01mdef\u001b[39;00m \u001b[38;5;21mread_file\u001b[39m(file_name):\n\u001b[0;32m----> 2\u001b[0m     \u001b[38;5;28;01mwith\u001b[39;00m \u001b[38;5;28mopen\u001b[39m(file_name, \u001b[43mr\u001b[49m) \u001b[38;5;28;01mas\u001b[39;00m my_file:\n\u001b[1;32m      3\u001b[0m         \u001b[38;5;28;01mfor\u001b[39;00m i \u001b[38;5;129;01min\u001b[39;00m my_file:\n\u001b[1;32m      4\u001b[0m             \u001b[38;5;28;01myield\u001b[39;00m i\n",
      "\u001b[0;31mNameError\u001b[0m: name 'r' is not defined"
     ]
    }
   ],
   "source": [
    "for i in read_file('test.txt'):\n",
    "    print(i)"
   ]
  },
  {
   "cell_type": "code",
   "execution_count": 32,
   "id": "1640ad44-63c0-4327-9bb5-fa9b1f424646",
   "metadata": {},
   "outputs": [
    {
     "name": "stdout",
     "output_type": "stream",
     "text": [
      "dsaddd\n",
      "\n",
      "dsdsfds\n",
      "\n",
      "fvd bgfht\n",
      "\n",
      "gfhtnht\n",
      "\n",
      "bhhbghhbg\n",
      "\n",
      "bgfbfhnhnh.\n"
     ]
    }
   ],
   "source": [
    "for i in open('test.txt'):\n",
    "    print(i)"
   ]
  },
  {
   "cell_type": "code",
   "execution_count": 33,
   "id": "04662452-7d2f-4632-b5a4-d2e1240e110d",
   "metadata": {
    "scrolled": true,
    "tags": []
   },
   "outputs": [
    {
     "name": "stdout",
     "output_type": "stream",
     "text": [
      " 19_August_Python_basics_Assignment.ipynb\n",
      " 20_August_2023_Python_basic_practice_test.ipynb\n",
      " 3_September_python_forloop.ipynb\n",
      " Inclass1_Python_basics_class1.ipynb\n",
      " Inclass2_Python_basic_datatypes.ipynb\n",
      " Inclass3_.ipynb\n",
      " Inclass4_controlflow.ipynb\n",
      "'Inclass5 and 6_functions.ipynb'\n",
      "'Inclass7&8_.ipynb'\n",
      " Inclass9.ipynb\n",
      " README.md\n",
      " sample-code.ipynb\n",
      " test.txt\n"
     ]
    }
   ],
   "source": [
    "ls"
   ]
  },
  {
   "cell_type": "code",
   "execution_count": 34,
   "id": "57e0332d-a5ed-4462-aa03-38ab7bdfbc4e",
   "metadata": {
    "jupyter": {
     "source_hidden": true
    },
    "tags": []
   },
   "outputs": [
    {
     "data": {
      "text/plain": [
       "'/home/jovyan/work'"
      ]
     },
     "execution_count": 34,
     "metadata": {},
     "output_type": "execute_result"
    }
   ],
   "source": [
    "pwd\n"
   ]
  },
  {
   "cell_type": "code",
   "execution_count": 38,
   "id": "7de4b868-954b-44f1-b9a2-0dcb179f8d15",
   "metadata": {},
   "outputs": [],
   "source": [
    "def read_file(file_name):\n",
    "    with open(file_name) as my_file:\n",
    "        for i in my_file:\n",
    "            yield i"
   ]
  },
  {
   "cell_type": "code",
   "execution_count": 39,
   "id": "af5ca3d3-bd5c-4db2-a471-5b5b15608a53",
   "metadata": {},
   "outputs": [],
   "source": [
    "k = read_file('test.txt')"
   ]
  },
  {
   "cell_type": "code",
   "execution_count": 40,
   "id": "a815d90c-26b1-4dc8-bace-ec2469c251fb",
   "metadata": {},
   "outputs": [
    {
     "name": "stdout",
     "output_type": "stream",
     "text": [
      "dsaddd\n",
      "\n",
      "dsdsfds\n",
      "\n",
      "fvd bgfht\n",
      "\n",
      "gfhtnht\n",
      "\n",
      "bhhbghhbg\n",
      "\n",
      "bgfbfhnhnh.\n"
     ]
    }
   ],
   "source": [
    "for i in read_file('test.txt'):\n",
    "    print(i)"
   ]
  },
  {
   "cell_type": "code",
   "execution_count": 42,
   "id": "4494e323-527a-4641-958d-c3e837df0fa6",
   "metadata": {},
   "outputs": [
    {
     "data": {
      "text/plain": [
       "generator"
      ]
     },
     "execution_count": 42,
     "metadata": {},
     "output_type": "execute_result"
    }
   ],
   "source": [
    "type(k)"
   ]
  },
  {
   "cell_type": "code",
   "execution_count": null,
   "id": "41977888-17ac-4c45-9a7a-ede8d4787b6e",
   "metadata": {},
   "outputs": [],
   "source": [
    "Exceptin handling and logging 09/30/2023"
   ]
  },
  {
   "cell_type": "code",
   "execution_count": null,
   "id": "db625b27-4880-4df2-b852-58dc23b4ec3d",
   "metadata": {},
   "outputs": [],
   "source": [
    "we will use it in every program we will write."
   ]
  },
  {
   "cell_type": "code",
   "execution_count": 1,
   "id": "e8e31e5e-7d9f-4367-8192-ec29e4cc1fd1",
   "metadata": {},
   "outputs": [
    {
     "ename": "ZeroDivisionError",
     "evalue": "division by zero",
     "output_type": "error",
     "traceback": [
      "\u001b[0;31m---------------------------------------------------------------------------\u001b[0m",
      "\u001b[0;31mZeroDivisionError\u001b[0m                         Traceback (most recent call last)",
      "Cell \u001b[0;32mIn[1], line 3\u001b[0m\n\u001b[1;32m      1\u001b[0m a\u001b[38;5;241m=\u001b[39m \u001b[38;5;241m1\u001b[39m\n\u001b[1;32m      2\u001b[0m b\u001b[38;5;241m=\u001b[39m \u001b[38;5;241m0\u001b[39m\n\u001b[0;32m----> 3\u001b[0m \u001b[43ma\u001b[49m\u001b[38;5;241;43m/\u001b[39;49m\u001b[43mb\u001b[49m\n",
      "\u001b[0;31mZeroDivisionError\u001b[0m: division by zero"
     ]
    }
   ],
   "source": [
    "a= 1\n",
    "b= 0\n",
    "a/b"
   ]
  },
  {
   "cell_type": "code",
   "execution_count": null,
   "id": "ec6ad2aa-decb-43b8-ab9e-e1c14d46110c",
   "metadata": {},
   "outputs": [],
   "source": [
    "a/b\n",
    "print('somethinh')\n",
    "# the first line fails to execute in python. It will never allow next line to execute.\n",
    "# We try to handle a piece of code that may give error by exceptio hadlig."
   ]
  },
  {
   "cell_type": "code",
   "execution_count": 26,
   "id": "acad66fb-cfbe-4b96-b563-ccdf47e5ca9d",
   "metadata": {},
   "outputs": [
    {
     "name": "stdout",
     "output_type": "stream",
     "text": [
      "something\n"
     ]
    }
   ],
   "source": [
    "try:\n",
    "    a = 4\n",
    "    b = 0\n",
    "    c = a/b\n",
    "    print(c)\n",
    "except:\n",
    "    #pass\n",
    "    print(\"something\")\n",
    "    "
   ]
  },
  {
   "cell_type": "code",
   "execution_count": null,
   "id": "89f99c54-6def-4e22-8901-e8606947410b",
   "metadata": {},
   "outputs": [],
   "source": [
    "it allows next block of the cde to execute eventhough there is error in the previous block of code."
   ]
  },
  {
   "cell_type": "code",
   "execution_count": 5,
   "id": "4a4827e0-f6d6-4ed9-89b8-4284e7fdc29e",
   "metadata": {},
   "outputs": [
    {
     "name": "stdout",
     "output_type": "stream",
     "text": [
      "division by zero\n"
     ]
    }
   ],
   "source": [
    "try:\n",
    "    c = 6/0\n",
    "except Exception as e: # Exception is the superclass of all the errors.\n",
    "    print(e)"
   ]
  },
  {
   "cell_type": "code",
   "execution_count": 7,
   "id": "a5d3dbd6-384d-4a13-8559-571e36b3418a",
   "metadata": {},
   "outputs": [
    {
     "name": "stdout",
     "output_type": "stream",
     "text": [
      "if try bolcks gets executed without error then else block executes\n"
     ]
    }
   ],
   "source": [
    "try: \n",
    "    c = 6/1\n",
    "except Exception as e:\n",
    "    print(e)\n",
    "else:\n",
    "    print(\"if try bolcks gets executed without error then else block executes\")"
   ]
  },
  {
   "cell_type": "code",
   "execution_count": 10,
   "id": "d2e5d1fa-5a07-4837-a07d-427cd67bd987",
   "metadata": {},
   "outputs": [
    {
     "name": "stdout",
     "output_type": "stream",
     "text": [
      "division by zero\n",
      " This piece gets executed no matter what\n"
     ]
    }
   ],
   "source": [
    "try: \n",
    "    c = 6/0\n",
    "except Exception as e:\n",
    "    print(e)\n",
    "else: # else block\n",
    "    print(\"if try bolcks gets executed without error then else block executes\")\n",
    "finally: #finally block.\n",
    "    print(\" This piece gets executed no matter what\")"
   ]
  },
  {
   "cell_type": "code",
   "execution_count": 11,
   "id": "418d1680-a826-4a31-ab3f-e26c233a8f08",
   "metadata": {},
   "outputs": [
    {
     "name": "stdout",
     "output_type": "stream",
     "text": [
      "'course'\n"
     ]
    }
   ],
   "source": [
    "try:\n",
    "    d ={ 'name': 'sudh'}\n",
    "    d['course']\n",
    "except Exception as e:\n",
    "    print(e)"
   ]
  },
  {
   "cell_type": "code",
   "execution_count": 12,
   "id": "f858713e-62d0-4377-bd08-a123fa7cba3e",
   "metadata": {},
   "outputs": [
    {
     "name": "stdout",
     "output_type": "stream",
     "text": [
      "/home/jovyan\n"
     ]
    }
   ],
   "source": [
    "cd # current directory"
   ]
  },
  {
   "cell_type": "code",
   "execution_count": 14,
   "id": "2f48ca9f-19fb-4804-987c-141e4595a6c5",
   "metadata": {},
   "outputs": [
    {
     "name": "stdout",
     "output_type": "stream",
     "text": [
      "/home\n"
     ]
    }
   ],
   "source": [
    "cd .. # going one step back"
   ]
  },
  {
   "cell_type": "code",
   "execution_count": 15,
   "id": "88f508db-8bf5-4fac-936c-aac528f239d1",
   "metadata": {},
   "outputs": [
    {
     "name": "stdout",
     "output_type": "stream",
     "text": [
      "\u001b[0m\u001b[01;34mjovyan\u001b[0m/\n"
     ]
    }
   ],
   "source": [
    "ls"
   ]
  },
  {
   "cell_type": "code",
   "execution_count": 19,
   "id": "203837b0-4e1c-4de7-8364-b9fc3c4d351c",
   "metadata": {},
   "outputs": [
    {
     "name": "stdout",
     "output_type": "stream",
     "text": [
      "[Errno 2] No such file or directory: 'jovyan/'\n",
      "/home/jovyan/work\n"
     ]
    }
   ],
   "source": [
    "cd jovyan/"
   ]
  },
  {
   "cell_type": "code",
   "execution_count": 17,
   "id": "43636dae-b462-4506-a7de-f86ced8a5fdc",
   "metadata": {},
   "outputs": [
    {
     "name": "stdout",
     "output_type": "stream",
     "text": [
      "\u001b[0m\u001b[01;34mwork\u001b[0m/\n"
     ]
    }
   ],
   "source": [
    "ls\n"
   ]
  },
  {
   "cell_type": "code",
   "execution_count": 18,
   "id": "ba2e3280-e5d7-4767-9abf-d0dc4d39d431",
   "metadata": {},
   "outputs": [
    {
     "name": "stdout",
     "output_type": "stream",
     "text": [
      "/home/jovyan/work\n"
     ]
    }
   ],
   "source": [
    "cd work/"
   ]
  },
  {
   "cell_type": "code",
   "execution_count": 20,
   "id": "a309f097-bc0a-426e-916f-aeaf46ac2727",
   "metadata": {},
   "outputs": [
    {
     "name": "stdout",
     "output_type": "stream",
     "text": [
      " 19_August_Python_basics_Assignment.ipynb\n",
      " 20_August_2023_Python_basic_practice_test.ipynb\n",
      " 3_September_python_forloop.ipynb\n",
      " Inclass1_Python_basics_class1.ipynb\n",
      " Inclass2_Python_basic_datatypes.ipynb\n",
      " Inclass3_.ipynb\n",
      " Inclass4_controlflow.ipynb\n",
      "'Inclass5 and 6_functions.ipynb'\n",
      "'Inclass7&8_.ipynb'\n",
      " Inclass9.ipynb\n",
      " README.md\n",
      " sample-code.ipynb\n",
      " test.txt\n"
     ]
    }
   ],
   "source": [
    "ls"
   ]
  },
  {
   "cell_type": "code",
   "execution_count": null,
   "id": "ed0f4ab6-0c19-42c5-9b6a-e9aaf3e1b4fd",
   "metadata": {},
   "outputs": [],
   "source": [
    "f = open(\"////\", \"r\")\n",
    "f.read()\n",
    "f.close()"
   ]
  },
  {
   "cell_type": "code",
   "execution_count": 24,
   "id": "234f7bc3-eccf-4be2-a3e4-42cc28c3228b",
   "metadata": {},
   "outputs": [
    {
     "name": "stdin",
     "output_type": "stream",
     "text": [
      "enter the height -9\n"
     ]
    },
    {
     "name": "stdout",
     "output_type": "stream",
     "text": [
      " the height is negative\n"
     ]
    }
   ],
   "source": [
    "try:\n",
    "    a = int(input(\"enter the height\"))\n",
    "    if a<0:                                  # we can add more elif and if statements\n",
    "        raise ValueError(\" the height is negative\") # generate our own error satements.\n",
    "except Exception as v:\n",
    "    print(v)"
   ]
  },
  {
   "cell_type": "code",
   "execution_count": null,
   "id": "04493fa8-4962-4dc3-bc43-28532f1cd802",
   "metadata": {},
   "outputs": [],
   "source": [
    "Logging:\n",
    "We are storing messages ina file system.  \n",
    "We dont write print function in a production grade code."
   ]
  },
  {
   "cell_type": "code",
   "execution_count": 6,
   "id": "aa6cf7e7-24b1-4045-b52e-4687466b2f09",
   "metadata": {},
   "outputs": [
    {
     "name": "stdin",
     "output_type": "stream",
     "text": [
      "enter the height -9\n"
     ]
    },
    {
     "name": "stdout",
     "output_type": "stream",
     "text": [
      " the height is negative\n"
     ]
    }
   ],
   "source": [
    "import logging\n",
    "logging.basicConfig(filename= 'trytest.log', level = logging.DEBUG, format = '%(asctime)s')\n",
    "try:\n",
    "    a = int(input(\"enter the height\"))\n",
    "    if a<0:  \n",
    "        logging.info(\"I am checking negative value\")# we can add more elif and if statements\n",
    "        raise ValueError(\" the height is negative\") # generate our own error satements.\n",
    "except Exception as v:\n",
    "    print(v)"
   ]
  },
  {
   "attachments": {
    "afb4407d-db8f-4e94-8d7a-6359ee5f1c4f.png": {
     "image/png": "[encoded data removed]"
    }
   },
   "cell_type": "markdown",
   "id": "9e786de6-9bc0-46d8-a3df-211e17a15ec0",
   "metadata": {},
   "source": [
    "![image.png](attachment:afb4407d-db8f-4e94-8d7a-6359ee5f1c4f.png)"
   ]
  },
  {
   "cell_type": "code",
   "execution_count": null,
   "id": "50918686-c0ad-48f7-950d-93decfe7ff93",
   "metadata": {},
   "outputs": [],
   "source": []
  }
 ],
 "metadata": {
  "kernelspec": {
   "display_name": "Python 3 (ipykernel)",
   "language": "python",
   "name": "python3"
  },
  "language_info": {
   "codemirror_mode": {
    "name": "ipython",
    "version": 3
   },
   "file_extension": ".py",
   "mimetype": "text/x-python",
   "name": "python",
   "nbconvert_exporter": "python",
   "pygments_lexer": "ipython3",
   "version": "3.10.8"
  }
 },
 "nbformat": 4,
 "nbformat_minor": 5
}
