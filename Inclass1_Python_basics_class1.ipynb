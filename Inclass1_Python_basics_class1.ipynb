{
 "cells": [
  {
   "cell_type": "code",
   "execution_count": 1,
   "id": "fdc659a4-b306-422c-b979-3198f0d86c1e",
   "metadata": {},
   "outputs": [
    {
     "name": "stdout",
     "output_type": "stream",
     "text": [
      "12\n"
     ]
    }
   ],
   "source": [
    "a = 3\n",
    "b= 4\n",
    "print(a*b)"
   ]
  },
  {
   "cell_type": "code",
   "execution_count": 2,
   "id": "4a7a777b-4669-45eb-bc22-e6266f6f6297",
   "metadata": {},
   "outputs": [],
   "source": [
    "# Python vatriable\n",
    "# they are a place holder where I can store my data.\n",
    "a = 10"
   ]
  },
  {
   "cell_type": "code",
   "execution_count": 3,
   "id": "b2ac22e0-f155-496f-92d7-406764e388bb",
   "metadata": {},
   "outputs": [
    {
     "data": {
      "text/plain": [
       "10"
      ]
     },
     "execution_count": 3,
     "metadata": {},
     "output_type": "execute_result"
    }
   ],
   "source": [
    "a"
   ]
  },
  {
   "cell_type": "code",
   "execution_count": 4,
   "id": "bdc904a4-44d4-48b9-9338-1130742d7337",
   "metadata": {},
   "outputs": [
    {
     "data": {
      "text/plain": [
       "int"
      ]
     },
     "execution_count": 4,
     "metadata": {},
     "output_type": "execute_result"
    }
   ],
   "source": [
    "type(a)"
   ]
  },
  {
   "cell_type": "code",
   "execution_count": 5,
   "id": "a97634d7-db3d-4c97-a429-f926c404a79f",
   "metadata": {},
   "outputs": [
    {
     "data": {
      "text/plain": [
       "str"
      ]
     },
     "execution_count": 5,
     "metadata": {},
     "output_type": "execute_result"
    }
   ],
   "source": [
    "s =\"pwskills\"\n",
    "type(s)"
   ]
  },
  {
   "cell_type": "code",
   "execution_count": 6,
   "id": "81331b51-578f-4c25-84f4-318fec423d0c",
   "metadata": {},
   "outputs": [
    {
     "data": {
      "text/plain": [
       "complex"
      ]
     },
     "execution_count": 6,
     "metadata": {},
     "output_type": "execute_result"
    }
   ],
   "source": [
    "c = 5+6j\n",
    "type(c)"
   ]
  },
  {
   "cell_type": "code",
   "execution_count": 7,
   "id": "eb1d199b-4794-40ab-9889-75af14894fe8",
   "metadata": {},
   "outputs": [
    {
     "data": {
      "text/plain": [
       "(5.0, 6.0)"
      ]
     },
     "execution_count": 7,
     "metadata": {},
     "output_type": "execute_result"
    }
   ],
   "source": [
    "c.real,c.imag"
   ]
  },
  {
   "cell_type": "code",
   "execution_count": 8,
   "id": "9eabf754-c5b3-4d3d-861d-d28b59f7bf1b",
   "metadata": {},
   "outputs": [],
   "source": [
    "# data types - int,float,string,cmplex,bool"
   ]
  },
  {
   "cell_type": "code",
   "execution_count": 9,
   "id": "e763cbd7-c9a6-4af3-be17-949e8eb693a9",
   "metadata": {},
   "outputs": [
    {
     "data": {
      "text/plain": [
       "bool"
      ]
     },
     "execution_count": 9,
     "metadata": {},
     "output_type": "execute_result"
    }
   ],
   "source": [
    "b = True\n",
    "type(b)"
   ]
  },
  {
   "cell_type": "code",
   "execution_count": 10,
   "id": "b3b8b06f-3e30-4e37-a369-39f9f1cf678e",
   "metadata": {},
   "outputs": [],
   "source": [
    "a1,a2 = 34,44"
   ]
  },
  {
   "cell_type": "code",
   "execution_count": 11,
   "id": "f1d48db1-e026-4dbc-ace2-cd27b3dc0c75",
   "metadata": {},
   "outputs": [
    {
     "data": {
      "text/plain": [
       "34"
      ]
     },
     "execution_count": 11,
     "metadata": {},
     "output_type": "execute_result"
    }
   ],
   "source": [
    "a1"
   ]
  },
  {
   "cell_type": "code",
   "execution_count": 12,
   "id": "16e1f24b-9ed8-49b4-9d4c-0ec169c0ca06",
   "metadata": {},
   "outputs": [
    {
     "name": "stderr",
     "output_type": "stream",
     "text": [
      "UsageError: Line magic function `%a` not found.\n"
     ]
    }
   ],
   "source": [
    "%a = 245"
   ]
  },
  {
   "cell_type": "code",
   "execution_count": 13,
   "id": "3f859b76-7ffe-45fc-9b0b-e4435b761b2a",
   "metadata": {},
   "outputs": [
    {
     "ename": "SyntaxError",
     "evalue": "invalid syntax. Maybe you meant '==' or ':=' instead of '='? (695566734.py, line 1)",
     "output_type": "error",
     "traceback": [
      "\u001b[0;36m  Cell \u001b[0;32mIn[13], line 1\u001b[0;36m\u001b[0m\n\u001b[0;31m    @b = 10\u001b[0m\n\u001b[0m     ^\u001b[0m\n\u001b[0;31mSyntaxError\u001b[0m\u001b[0;31m:\u001b[0m invalid syntax. Maybe you meant '==' or ':=' instead of '='?\n"
     ]
    }
   ],
   "source": [
    "@b = 10"
   ]
  },
  {
   "cell_type": "code",
   "execution_count": 14,
   "id": "a4493fd6-522d-4609-b70d-60c8926540ec",
   "metadata": {},
   "outputs": [
    {
     "ename": "SyntaxError",
     "evalue": "invalid binary literal (3531634195.py, line 1)",
     "output_type": "error",
     "traceback": [
      "\u001b[0;36m  Cell \u001b[0;32mIn[14], line 1\u001b[0;36m\u001b[0m\n\u001b[0;31m    0b = 2\u001b[0m\n\u001b[0m     ^\u001b[0m\n\u001b[0;31mSyntaxError\u001b[0m\u001b[0;31m:\u001b[0m invalid binary literal\n"
     ]
    }
   ],
   "source": [
    "0b = 2"
   ]
  },
  {
   "cell_type": "code",
   "execution_count": 15,
   "id": "9cbbb8b2-d54b-4986-afb3-4fc3c158ee29",
   "metadata": {},
   "outputs": [
    {
     "data": {
      "text/plain": [
       "1"
      ]
     },
     "execution_count": 15,
     "metadata": {},
     "output_type": "execute_result"
    }
   ],
   "source": [
    "b1 = True #1\n",
    "b2 = False #0\n",
    "b1-b2"
   ]
  },
  {
   "cell_type": "code",
   "execution_count": 25,
   "id": "aa63ffaf-24cd-429a-b27a-b79df08f2b63",
   "metadata": {},
   "outputs": [],
   "source": [
    "s =\"this is my first master's\" +\" 10\" #withc oncatenation."
   ]
  },
  {
   "cell_type": "code",
   "execution_count": 26,
   "id": "9db57ecf-0dda-4df1-9892-476e81604a7d",
   "metadata": {},
   "outputs": [
    {
     "data": {
      "text/plain": [
       "\"this is my first master's 10\""
      ]
     },
     "execution_count": 26,
     "metadata": {},
     "output_type": "execute_result"
    }
   ],
   "source": [
    "s"
   ]
  },
  {
   "cell_type": "code",
   "execution_count": 22,
   "id": "bab1c2c0-537f-48e6-ba15-8a29890e585d",
   "metadata": {},
   "outputs": [
    {
     "data": {
      "text/plain": [
       "'This is my first class'"
      ]
     },
     "execution_count": 22,
     "metadata": {},
     "output_type": "execute_result"
    }
   ],
   "source": [
    "'''This is my first class'''"
   ]
  },
  {
   "cell_type": "code",
   "execution_count": 27,
   "id": "fe2a926e-8497-4ce3-a97d-9df254ef8a06",
   "metadata": {},
   "outputs": [
    {
     "data": {
      "text/plain": [
       "\"this is my first master's 10 10\""
      ]
     },
     "execution_count": 27,
     "metadata": {},
     "output_type": "execute_result"
    }
   ],
   "source": [
    "s + \" \" + str(10) # typecasting"
   ]
  },
  {
   "cell_type": "code",
   "execution_count": 33,
   "id": "31b08e00-7340-4cca-8dd3-352c98f46325",
   "metadata": {},
   "outputs": [
    {
     "data": {
      "text/plain": [
       "10"
      ]
     },
     "execution_count": 33,
     "metadata": {},
     "output_type": "execute_result"
    }
   ],
   "source": [
    "b = '10'\n",
    "int(b)"
   ]
  },
  {
   "cell_type": "code",
   "execution_count": null,
   "id": "1e941d5e-9c3f-494b-a87a-3508f5ba70d7",
   "metadata": {},
   "outputs": [],
   "source": [
    "# get user input\n",
    "# input() function, returns string output"
   ]
  },
  {
   "cell_type": "code",
   "execution_count": 36,
   "id": "fafb9b50-54ac-4347-9c6e-4e0efa99ce69",
   "metadata": {},
   "outputs": [
    {
     "name": "stdin",
     "output_type": "stream",
     "text": [
      " 99\n"
     ]
    }
   ],
   "source": [
    "y = int(input()) # or bool(input())"
   ]
  },
  {
   "cell_type": "code",
   "execution_count": 37,
   "id": "1d3c9bb3-c830-4904-8c50-dd40e6cded4b",
   "metadata": {},
   "outputs": [
    {
     "data": {
      "text/plain": [
       "99"
      ]
     },
     "execution_count": 37,
     "metadata": {},
     "output_type": "execute_result"
    }
   ],
   "source": [
    "y"
   ]
  },
  {
   "cell_type": "code",
   "execution_count": 1,
   "id": "f426a714-d711-4d68-9659-b324f822321e",
   "metadata": {},
   "outputs": [
    {
     "data": {
      "text/plain": [
       "'n'"
      ]
     },
     "execution_count": 1,
     "metadata": {},
     "output_type": "execute_result"
    }
   ],
   "source": [
    "s = 'neha' #indexing\n",
    "s[0]"
   ]
  },
  {
   "cell_type": "code",
   "execution_count": 11,
   "id": "33e3bc1a-e29a-4c90-9fdd-6ac394801ab5",
   "metadata": {},
   "outputs": [
    {
     "data": {
      "text/plain": [
       "'ne'"
      ]
     },
     "execution_count": 11,
     "metadata": {},
     "output_type": "execute_result"
    }
   ],
   "source": [
    "s[0:2]"
   ]
  },
  {
   "cell_type": "code",
   "execution_count": 14,
   "id": "e2612ea0-dc26-4a17-8add-603598344afd",
   "metadata": {},
   "outputs": [
    {
     "data": {
      "text/plain": [
       "'ha'"
      ]
     },
     "execution_count": 14,
     "metadata": {},
     "output_type": "execute_result"
    }
   ],
   "source": [
    "s[2:800] #in case of slixing operation it works "
   ]
  },
  {
   "cell_type": "code",
   "execution_count": 15,
   "id": "d6f09b27-1481-4e79-842f-d5fcd4b743a7",
   "metadata": {},
   "outputs": [
    {
     "ename": "IndexError",
     "evalue": "string index out of range",
     "output_type": "error",
     "traceback": [
      "\u001b[0;31m---------------------------------------------------------------------------\u001b[0m",
      "\u001b[0;31mIndexError\u001b[0m                                Traceback (most recent call last)",
      "Cell \u001b[0;32mIn[15], line 1\u001b[0m\n\u001b[0;32m----> 1\u001b[0m \u001b[43ms\u001b[49m\u001b[43m[\u001b[49m\u001b[38;5;241;43m900\u001b[39;49m\u001b[43m]\u001b[49m\n",
      "\u001b[0;31mIndexError\u001b[0m: string index out of range"
     ]
    }
   ],
   "source": [
    "s[900] # in case of indexing it does not woerk!"
   ]
  },
  {
   "cell_type": "code",
   "execution_count": 16,
   "id": "881784df-1761-4461-ade5-928c01a11a31",
   "metadata": {},
   "outputs": [
    {
     "data": {
      "text/plain": [
       "'ha'"
      ]
     },
     "execution_count": 16,
     "metadata": {},
     "output_type": "execute_result"
    }
   ],
   "source": [
    "s[2:] # no need to give upper bound."
   ]
  },
  {
   "cell_type": "code",
   "execution_count": 17,
   "id": "24fb0209-1895-421b-9276-8da409add2cd",
   "metadata": {},
   "outputs": [
    {
     "data": {
      "text/plain": [
       "'nh'"
      ]
     },
     "execution_count": 17,
     "metadata": {},
     "output_type": "execute_result"
    }
   ],
   "source": [
    "# extracting un sequential data:\n",
    "# we use : step\n",
    "s[0:5:2]"
   ]
  },
  {
   "cell_type": "code",
   "execution_count": 18,
   "id": "8409fb52-c515-4180-a113-312f390d18f6",
   "metadata": {},
   "outputs": [
    {
     "data": {
      "text/plain": [
       "''"
      ]
     },
     "execution_count": 18,
     "metadata": {},
     "output_type": "execute_result"
    }
   ],
   "source": [
    "# backward slicing:\n",
    "s[4:0]\n",
    "# by default the step is goingto be 1"
   ]
  },
  {
   "cell_type": "code",
   "execution_count": 27,
   "id": "e2aecf7d-e3b7-47fd-855c-405ca490b56f",
   "metadata": {},
   "outputs": [
    {
     "data": {
      "text/plain": [
       "'ahe'"
      ]
     },
     "execution_count": 27,
     "metadata": {},
     "output_type": "execute_result"
    }
   ],
   "source": [
    "s[-1:-4:-1]"
   ]
  },
  {
   "cell_type": "code",
   "execution_count": 33,
   "id": "79fd1109-9dac-4875-b611-c26ec031c5b1",
   "metadata": {},
   "outputs": [
    {
     "data": {
      "text/plain": [
       "'ahen'"
      ]
     },
     "execution_count": 33,
     "metadata": {},
     "output_type": "execute_result"
    }
   ],
   "source": [
    "s[4:-5:-1]"
   ]
  },
  {
   "cell_type": "code",
   "execution_count": 34,
   "id": "1b525189-2caf-467d-ba8c-ae38cd599ad5",
   "metadata": {},
   "outputs": [
    {
     "data": {
      "text/plain": [
       "'ahen'"
      ]
     },
     "execution_count": 34,
     "metadata": {},
     "output_type": "execute_result"
    }
   ],
   "source": [
    "s[-1::-1]"
   ]
  },
  {
   "cell_type": "code",
   "execution_count": 35,
   "id": "fbcd0944-75a9-4606-b3a7-b3ebe58424e6",
   "metadata": {},
   "outputs": [
    {
     "data": {
      "text/plain": [
       "'yduts'"
      ]
     },
     "execution_count": 35,
     "metadata": {},
     "output_type": "execute_result"
    }
   ],
   "source": [
    "s= 'study'\n",
    "s[4::-1]"
   ]
  },
  {
   "cell_type": "code",
   "execution_count": 36,
   "id": "42d84309-44f9-4712-ac04-cd538427bdf3",
   "metadata": {},
   "outputs": [
    {
     "data": {
      "text/plain": [
       "'yduts'"
      ]
     },
     "execution_count": 36,
     "metadata": {},
     "output_type": "execute_result"
    }
   ],
   "source": [
    "#OR\n",
    "s[-1:-6:-1]"
   ]
  },
  {
   "cell_type": "code",
   "execution_count": 37,
   "id": "86029269-ee5a-4826-ba4c-cbeeb9a92ecc",
   "metadata": {},
   "outputs": [
    {
     "data": {
      "text/plain": [
       "'yduts'"
      ]
     },
     "execution_count": 37,
     "metadata": {},
     "output_type": "execute_result"
    }
   ],
   "source": [
    "#OR\n",
    "s[-1::-1]"
   ]
  },
  {
   "cell_type": "code",
   "execution_count": 38,
   "id": "f8f0f078-edda-4a7e-8e3a-93d62fc152d7",
   "metadata": {},
   "outputs": [
    {
     "data": {
      "text/plain": [
       "'yduts'"
      ]
     },
     "execution_count": 38,
     "metadata": {},
     "output_type": "execute_result"
    }
   ],
   "source": [
    "#or just using step:\n",
    "s[::-1]"
   ]
  },
  {
   "cell_type": "code",
   "execution_count": 45,
   "id": "73d5274d-f806-492f-8418-f4929a6fd336",
   "metadata": {},
   "outputs": [
    {
     "ename": "TypeError",
     "evalue": "'str' object does not support item assignment",
     "output_type": "error",
     "traceback": [
      "\u001b[0;31m---------------------------------------------------------------------------\u001b[0m",
      "\u001b[0;31mTypeError\u001b[0m                                 Traceback (most recent call last)",
      "Cell \u001b[0;32mIn[45], line 1\u001b[0m\n\u001b[0;32m----> 1\u001b[0m \u001b[43ms\u001b[49m\u001b[43m[\u001b[49m\u001b[38;5;241;43m0\u001b[39;49m\u001b[43m]\u001b[49m \u001b[38;5;241m=\u001b[39m \u001b[38;5;124m'\u001b[39m\u001b[38;5;124m3\u001b[39m\u001b[38;5;124m'\u001b[39m\n",
      "\u001b[0;31mTypeError\u001b[0m: 'str' object does not support item assignment"
     ]
    }
   ],
   "source": [
    "s[0] = '3' # in case of string item reassignment is not possible!!!!\n",
    "#string is immutable\n",
    "# It can be done in case of list! you can change a the value at a particualr index."
   ]
  },
  {
   "cell_type": "code",
   "execution_count": 43,
   "id": "ab00b283-81af-4c00-ac63-c3e9041ee80a",
   "metadata": {},
   "outputs": [
    {
     "data": {
      "text/plain": [
       "'study'"
      ]
     },
     "execution_count": 43,
     "metadata": {},
     "output_type": "execute_result"
    }
   ],
   "source": [
    "s"
   ]
  },
  {
   "cell_type": "code",
   "execution_count": 47,
   "id": "071afa2b-1661-4d15-bc9d-0c80b8e20cfa",
   "metadata": {},
   "outputs": [
    {
     "data": {
      "text/plain": [
       "'sud'"
      ]
     },
     "execution_count": 47,
     "metadata": {},
     "output_type": "execute_result"
    }
   ],
   "source": [
    "# extracting random indices and showing as a string.\n",
    "d = s[0]+s[2]+s[3]\n",
    "d"
   ]
  },
  {
   "cell_type": "code",
   "execution_count": null,
   "id": "e2ee4871-f0db-4d44-93bc-0ab684f5012c",
   "metadata": {},
   "outputs": [],
   "source": []
  }
 ],
 "metadata": {
  "kernelspec": {
   "display_name": "Python 3 (ipykernel)",
   "language": "python",
   "name": "python3"
  },
  "language_info": {
   "codemirror_mode": {
    "name": "ipython",
    "version": 3
   },
   "file_extension": ".py",
   "mimetype": "text/x-python",
   "name": "python",
   "nbconvert_exporter": "python",
   "pygments_lexer": "ipython3",
   "version": "3.10.8"
  }
 },
 "nbformat": 4,
 "nbformat_minor": 5
}
